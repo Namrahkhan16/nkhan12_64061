{
  "nbformat": 4,
  "nbformat_minor": 0,
  "metadata": {
    "colab": {
      "provenance": []
    },
    "kernelspec": {
      "name": "python3",
      "display_name": "Python 3"
    },
    "language_info": {
      "name": "python"
    },
    "accelerator": "GPU",
    "gpuClass": "standard"
  },
  "cells": [
    {
      "cell_type": "markdown",
      "source": [
        "*Text and Sequence*"
      ],
      "metadata": {
        "id": "UK5oZ33wll9-"
      }
    },
    {
      "cell_type": "markdown",
      "source": [
        "Loading required libraries"
      ],
      "metadata": {
        "id": "HEW1tb9_lovP"
      }
    },
    {
      "cell_type": "code",
      "source": [
        "import numpy as np\n",
        "import pandas as pd\n",
        "import seaborn as sns\n",
        "import matplotlib.pyplot as plt\n",
        "%matplotlib inline\n",
        "\n",
        "from tensorflow import keras\n",
        "from tensorflow.keras import layers\n",
        "from tensorflow.keras.callbacks import EarlyStopping\n",
        "from tensorflow.keras.callbacks import ModelCheckpoint\n",
        "from keras.datasets import imdb\n",
        "from keras import preprocessing\n",
        "from keras.utils.data_utils import pad_sequences\n",
        "from keras.models import Sequential\n",
        "from keras.layers import Flatten, Dense, Embedding, LSTM,  Conv1D, MaxPooling1D, GlobalMaxPooling1D, Dropout\n",
        "from keras.models import load_model\n",
        "from keras.preprocessing.text import Tokenizer\n",
        "from sklearn.model_selection import train_test_split\n",
        "from keras.optimizers import RMSprop\n",
        "from keras.optimizers import adam\n",
        "from google.colab import files\n",
        "import re, os"
      ],
      "metadata": {
        "id": "RH_DStD3luEQ"
      },
      "execution_count": null,
      "outputs": []
    },
    {
      "cell_type": "markdown",
      "source": [
        "To avoid the warnings\n",
        "\n"
      ],
      "metadata": {
        "id": "72liQ1Ezmjs0"
      }
    },
    {
      "cell_type": "code",
      "source": [
        "# To deprecate warnings that are making the output look clumsy\n",
        "\n",
        "import logging\n",
        "logging.getLogger('tensorflow').disabled = True\n"
      ],
      "metadata": {
        "id": "Z_tiy8evmqtD"
      },
      "execution_count": null,
      "outputs": []
    },
    {
      "cell_type": "markdown",
      "source": [
        "*Model 1 - Basic Model (To understand how embedding and cutoff works)*\n",
        "We didn't limit the training, validation and test samples here. I ran a basic model with the entire sample strength to know the model's performance."
      ],
      "metadata": {
        "id": "jqekycxkmzXq"
      }
    },
    {
      "cell_type": "code",
      "source": [
        "\n",
        "# Considering only top 10,000 Words\n",
        "max_features = 10000\n",
        "\n",
        "# Setting a Cut-Off Point for Reviews after 150 Words\n",
        "maxlen = 150\n",
        "\n",
        "# Loading the Train and Test Datasets of the IMDB Example\n",
        "(x_train, y_train), (x_test, y_test) = imdb.load_data(num_words=max_features)\n",
        "\n",
        "# Pre-Processing to Convert the Texts to Numericals\n",
        "x_train = pad_sequences(x_train, maxlen=maxlen)\n",
        "x_test = pad_sequences(x_test, maxlen=maxlen)"
      ],
      "metadata": {
        "colab": {
          "base_uri": "https://localhost:8080/"
        },
        "id": "l0_lDfNjnGoD",
        "outputId": "6b4f9bc7-69d2-4692-b959-89f7c6937f17"
      },
      "execution_count": null,
      "outputs": [
        {
          "output_type": "stream",
          "name": "stdout",
          "text": [
            "Downloading data from https://storage.googleapis.com/tensorflow/tf-keras-datasets/imdb.npz\n",
            "17464789/17464789 [==============================] - 0s 0us/step\n"
          ]
        }
      ]
    },
    {
      "cell_type": "markdown",
      "source": [
        "Building the network"
      ],
      "metadata": {
        "id": "QPFl__xznT15"
      }
    },
    {
      "cell_type": "code",
      "source": [
        "\n",
        "# Setting the Sequential Layer for Model Building\n",
        "model = Sequential()\n",
        "\n",
        "# Adding the Embedding Layer with limiting to consider only the top 10,000 Words\n",
        "model.add(Embedding(10000, 8, input_length=maxlen))\n",
        "\n",
        "# Flattening the Size \n",
        "model.add(Flatten())\n",
        "\n",
        "# Adding the Classifer on the top - As the final layer\n",
        "model.add(Dense(1, activation = 'sigmoid'))\n",
        "\n",
        "# Compiling the Model\n",
        "model.compile(optimizer = 'rmsprop', loss = 'binary_crossentropy', metrics = ['acc'])"
      ],
      "metadata": {
        "id": "XxEiEC1jnPAq"
      },
      "execution_count": null,
      "outputs": []
    },
    {
      "cell_type": "markdown",
      "source": [
        "Summary"
      ],
      "metadata": {
        "id": "436tvMZ7neFs"
      }
    },
    {
      "cell_type": "code",
      "source": [
        "model.summary()"
      ],
      "metadata": {
        "colab": {
          "base_uri": "https://localhost:8080/"
        },
        "id": "KdY6Ac1GnfN7",
        "outputId": "764ae678-9c97-400c-d2f1-b47c5ed1a830"
      },
      "execution_count": null,
      "outputs": [
        {
          "output_type": "stream",
          "name": "stdout",
          "text": [
            "Model: \"sequential\"\n",
            "_________________________________________________________________\n",
            " Layer (type)                Output Shape              Param #   \n",
            "=================================================================\n",
            " embedding (Embedding)       (None, 150, 8)            80000     \n",
            "                                                                 \n",
            " flatten (Flatten)           (None, 1200)              0         \n",
            "                                                                 \n",
            " dense (Dense)               (None, 1)                 1201      \n",
            "                                                                 \n",
            "=================================================================\n",
            "Total params: 81,201\n",
            "Trainable params: 81,201\n",
            "Non-trainable params: 0\n",
            "_________________________________________________________________\n"
          ]
        }
      ]
    },
    {
      "cell_type": "markdown",
      "source": [
        "Execution"
      ],
      "metadata": {
        "id": "brWTUhhqniKz"
      }
    },
    {
      "cell_type": "code",
      "source": [
        "\n",
        "# Setting Callbacks\n",
        "callbacks = ModelCheckpoint(\n",
        "            filepath= \"model1.keras\",\n",
        "            save_best_only= True,\n",
        "            monitor= \"val_loss\"\n",
        "            )\n",
        "\n",
        "\n",
        "# Model Fit - Running the Model\n",
        "Model_1 = model.fit(x_train, y_train,\n",
        "                    epochs=30,\n",
        "                    batch_size=32,\n",
        "                    validation_split=0.2,\n",
        "                    callbacks=callbacks)"
      ],
      "metadata": {
        "colab": {
          "base_uri": "https://localhost:8080/"
        },
        "id": "G4tPzcy_npnd",
        "outputId": "6d36f3b8-993d-42a6-df29-473beeef631b"
      },
      "execution_count": null,
      "outputs": [
        {
          "output_type": "stream",
          "name": "stdout",
          "text": [
            "Epoch 1/30\n",
            "625/625 [==============================] - 40s 55ms/step - loss: 0.6026 - acc: 0.6971 - val_loss: 0.4344 - val_acc: 0.8278\n",
            "Epoch 2/30\n",
            "625/625 [==============================] - 9s 14ms/step - loss: 0.3375 - acc: 0.8644 - val_loss: 0.3256 - val_acc: 0.8626\n",
            "Epoch 3/30\n",
            "625/625 [==============================] - 5s 8ms/step - loss: 0.2606 - acc: 0.8956 - val_loss: 0.3025 - val_acc: 0.8722\n",
            "Epoch 4/30\n",
            "625/625 [==============================] - 3s 5ms/step - loss: 0.2245 - acc: 0.9128 - val_loss: 0.2995 - val_acc: 0.8724\n",
            "Epoch 5/30\n",
            "625/625 [==============================] - 3s 5ms/step - loss: 0.1993 - acc: 0.9242 - val_loss: 0.3052 - val_acc: 0.8716\n",
            "Epoch 6/30\n",
            "625/625 [==============================] - 4s 6ms/step - loss: 0.1776 - acc: 0.9344 - val_loss: 0.3073 - val_acc: 0.8724\n",
            "Epoch 7/30\n",
            "625/625 [==============================] - 8s 13ms/step - loss: 0.1582 - acc: 0.9434 - val_loss: 0.3182 - val_acc: 0.8696\n",
            "Epoch 8/30\n",
            "625/625 [==============================] - 7s 11ms/step - loss: 0.1396 - acc: 0.9512 - val_loss: 0.3279 - val_acc: 0.8672\n",
            "Epoch 9/30\n",
            "625/625 [==============================] - 3s 5ms/step - loss: 0.1221 - acc: 0.9587 - val_loss: 0.3343 - val_acc: 0.8694\n",
            "Epoch 10/30\n",
            "625/625 [==============================] - 3s 4ms/step - loss: 0.1061 - acc: 0.9662 - val_loss: 0.3482 - val_acc: 0.8638\n",
            "Epoch 11/30\n",
            "625/625 [==============================] - 3s 5ms/step - loss: 0.0906 - acc: 0.9729 - val_loss: 0.3611 - val_acc: 0.8612\n",
            "Epoch 12/30\n",
            "625/625 [==============================] - 3s 5ms/step - loss: 0.0768 - acc: 0.9779 - val_loss: 0.3754 - val_acc: 0.8594\n",
            "Epoch 13/30\n",
            "625/625 [==============================] - 3s 5ms/step - loss: 0.0650 - acc: 0.9820 - val_loss: 0.3990 - val_acc: 0.8562\n",
            "Epoch 14/30\n",
            "625/625 [==============================] - 3s 5ms/step - loss: 0.0541 - acc: 0.9856 - val_loss: 0.4113 - val_acc: 0.8548\n",
            "Epoch 15/30\n",
            "625/625 [==============================] - 4s 6ms/step - loss: 0.0445 - acc: 0.9888 - val_loss: 0.4309 - val_acc: 0.8514\n",
            "Epoch 16/30\n",
            "625/625 [==============================] - 3s 5ms/step - loss: 0.0366 - acc: 0.9913 - val_loss: 0.4465 - val_acc: 0.8534\n",
            "Epoch 17/30\n",
            "625/625 [==============================] - 2s 4ms/step - loss: 0.0296 - acc: 0.9931 - val_loss: 0.4695 - val_acc: 0.8488\n",
            "Epoch 18/30\n",
            "625/625 [==============================] - 3s 4ms/step - loss: 0.0239 - acc: 0.9948 - val_loss: 0.4892 - val_acc: 0.8504\n",
            "Epoch 19/30\n",
            "625/625 [==============================] - 3s 4ms/step - loss: 0.0188 - acc: 0.9962 - val_loss: 0.5095 - val_acc: 0.8496\n",
            "Epoch 20/30\n",
            "625/625 [==============================] - 3s 5ms/step - loss: 0.0152 - acc: 0.9973 - val_loss: 0.5276 - val_acc: 0.8500\n",
            "Epoch 21/30\n",
            "625/625 [==============================] - 5s 7ms/step - loss: 0.0122 - acc: 0.9977 - val_loss: 0.5542 - val_acc: 0.8482\n",
            "Epoch 22/30\n",
            "625/625 [==============================] - 2s 4ms/step - loss: 0.0098 - acc: 0.9983 - val_loss: 0.5698 - val_acc: 0.8500\n",
            "Epoch 23/30\n",
            "625/625 [==============================] - 3s 5ms/step - loss: 0.0078 - acc: 0.9987 - val_loss: 0.5948 - val_acc: 0.8472\n",
            "Epoch 24/30\n",
            "625/625 [==============================] - 4s 6ms/step - loss: 0.0063 - acc: 0.9987 - val_loss: 0.6111 - val_acc: 0.8492\n",
            "Epoch 25/30\n",
            "625/625 [==============================] - 6s 9ms/step - loss: 0.0050 - acc: 0.9991 - val_loss: 0.6368 - val_acc: 0.8468\n",
            "Epoch 26/30\n",
            "625/625 [==============================] - 2s 4ms/step - loss: 0.0042 - acc: 0.9991 - val_loss: 0.6464 - val_acc: 0.8448\n",
            "Epoch 27/30\n",
            "625/625 [==============================] - 2s 4ms/step - loss: 0.0034 - acc: 0.9995 - val_loss: 0.6609 - val_acc: 0.8480\n",
            "Epoch 28/30\n",
            "625/625 [==============================] - 3s 4ms/step - loss: 0.0029 - acc: 0.9995 - val_loss: 0.6778 - val_acc: 0.8488\n",
            "Epoch 29/30\n",
            "625/625 [==============================] - 3s 4ms/step - loss: 0.0024 - acc: 0.9997 - val_loss: 0.6910 - val_acc: 0.8472\n",
            "Epoch 30/30\n",
            "625/625 [==============================] - 4s 7ms/step - loss: 0.0019 - acc: 0.9998 - val_loss: 0.7038 - val_acc: 0.8456\n"
          ]
        }
      ]
    },
    {
      "cell_type": "markdown",
      "source": [
        "Visualizing Training and Validation Loss and Accuracy\n",
        "\n"
      ],
      "metadata": {
        "id": "dMXPMvo4n6KT"
      }
    },
    {
      "cell_type": "code",
      "source": [
        "accuracy = Model_1.history['acc']\n",
        "val_accuracy = Model_1.history['val_acc']\n",
        "\n",
        "loss = Model_1.history[\"loss\"]\n",
        "val_loss = Model_1.history[\"val_loss\"]\n",
        "\n",
        "epochs = range(1, len(loss) + 1)\n",
        "\n",
        "plt.figure(figsize=(6,4))\n",
        "plt.plot(epochs, accuracy, color=\"grey\", label=\"Training Accuracy\")\n",
        "plt.plot(epochs, val_accuracy, color=\"blue\", label=\"Validation Accuracy\")\n",
        "plt.title(\"Training and Validation Accuracy\")\n",
        "plt.legend()\n",
        "\n",
        "\n",
        "plt.figure(figsize=(6,4))\n",
        "plt.plot(epochs, loss, color=\"grey\", label=\"Training Loss\")\n",
        "plt.plot(epochs, val_loss, color=\"blue\", label=\"Validation Loss\")\n",
        "plt.title(\"Training and Validation Loss\")\n",
        "plt.legend()\n",
        "plt.show()"
      ],
      "metadata": {
        "colab": {
          "base_uri": "https://localhost:8080/",
          "height": 765
        },
        "id": "5mqVyKh6n79s",
        "outputId": "ef92df6b-d99d-4925-96ed-c222d250c5f4"
      },
      "execution_count": null,
      "outputs": [
        {
          "output_type": "display_data",
          "data": {
            "text/plain": [
              "<Figure size 600x400 with 1 Axes>"
            ],
            "image/png": "[encoded data removed]"
          },
          "metadata": {}
        },
        {
          "output_type": "display_data",
          "data": {
            "text/plain": [
              "<Figure size 600x400 with 1 Axes>"
            ],
            "image/png": "[encoded data removed]"
          },
          "metadata": {}
        }
      ]
    },
    {
      "cell_type": "code",
      "source": [
        "test_model = load_model('model1.keras')\n",
        "Model1_Results = test_model.evaluate(x_test,y_test)\n",
        "print(f'Loss: {Model1_Results[0]:.3f}')\n",
        "print(f'Accuracy: {Model1_Results[1]:.3f}')"
      ],
      "metadata": {
        "colab": {
          "base_uri": "https://localhost:8080/"
        },
        "id": "Sga5tucwoNim",
        "outputId": "8b7a11d4-8039-42b2-d55a-55c4a90c0e07"
      },
      "execution_count": null,
      "outputs": [
        {
          "output_type": "stream",
          "name": "stdout",
          "text": [
            "782/782 [==============================] - 2s 2ms/step - loss: 0.2945 - acc: 0.8748\n",
            "Loss: 0.294\n",
            "Accuracy: 0.875\n"
          ]
        }
      ]
    },
    {
      "cell_type": "markdown",
      "source": [
        "\n",
        "Initially, a model was trained without limiting the training, validation, and test samples, and achieved an accuracy of 87.5%.\n",
        "\n",
        "Now, the goal is to build models with limited samples to understand the impact of the amount of training data on the model's performance."
      ],
      "metadata": {
        "id": "weUEJrBKoVFH"
      }
    },
    {
      "cell_type": "markdown",
      "source": [
        "*Model 2 Training Sample - 100, Validation Sample - 10000, Test Sample - 5000*\n"
      ],
      "metadata": {
        "id": "bsDLE3xuow1a"
      }
    },
    {
      "cell_type": "markdown",
      "source": [
        "Creating Custom Samples of Train, Validation and Test Set\n",
        "\n"
      ],
      "metadata": {
        "id": "motlPJL0o2el"
      }
    },
    {
      "cell_type": "code",
      "source": [
        "# Setting the maximum number of words to be used in the vocabulary\n",
        "num_words = 10000\n",
        "\n",
        "# Loading the IMDB Dataset\n",
        "(train_data, train_labels), (test_data, test_labels) = imdb.load_data(num_words=num_words)\n",
        "\n",
        "# Cut-Off the reviews after 150 words\n",
        "maxlen = 150\n",
        "train_data = pad_sequences(train_data, maxlen=maxlen)\n",
        "test_data = pad_sequences(test_data, maxlen=maxlen)\n",
        "\n",
        "# Combining the Training and Testing data create an entire dataset\n",
        "texts = np.concatenate((train_data, test_data), axis=0)\n",
        "labels = np.concatenate((train_labels, test_labels), axis=0)\n",
        "\n",
        "# Splitting the data into Training and Validation Samples\n",
        "train_texts, val_texts, train_labels, val_labels = train_test_split(texts, labels, train_size=100, test_size=10000, random_state=42, stratify=labels)\n",
        "\n",
        "# Further split the data to get the test size of 5000 samples\n",
        "_, test_texts, _, test_labels = train_test_split(test_data, test_labels, test_size=5000, random_state=42, stratify=test_labels)"
      ],
      "metadata": {
        "id": "cI-hkmI1oxtn"
      },
      "execution_count": null,
      "outputs": []
    },
    {
      "cell_type": "markdown",
      "source": [
        "We could verify the custom splits provided by looking at the below code where we are looking at the train, validation and test data.\n",
        "\n"
      ],
      "metadata": {
        "id": "8t6Y8z1Jo6iu"
      }
    },
    {
      "cell_type": "code",
      "source": [
        "train_texts.shape\n"
      ],
      "metadata": {
        "colab": {
          "base_uri": "https://localhost:8080/"
        },
        "id": "ZplXzgspo8vd",
        "outputId": "4cb49800-a381-4b93-b1f5-34ee4b8029fc"
      },
      "execution_count": null,
      "outputs": [
        {
          "output_type": "execute_result",
          "data": {
            "text/plain": [
              "(100, 150)"
            ]
          },
          "metadata": {},
          "execution_count": 10
        }
      ]
    },
    {
      "cell_type": "code",
      "source": [
        "val_texts.shape\n"
      ],
      "metadata": {
        "colab": {
          "base_uri": "https://localhost:8080/"
        },
        "id": "NoOcZfmEpPwy",
        "outputId": "d0ef20bf-acad-430d-8186-198bcea7cae7"
      },
      "execution_count": null,
      "outputs": [
        {
          "output_type": "execute_result",
          "data": {
            "text/plain": [
              "(10000, 150)"
            ]
          },
          "metadata": {},
          "execution_count": 11
        }
      ]
    },
    {
      "cell_type": "code",
      "source": [
        "test_texts.shape\n"
      ],
      "metadata": {
        "colab": {
          "base_uri": "https://localhost:8080/"
        },
        "id": "-cxshTLppT24",
        "outputId": "d57ef57a-d51e-4e33-acef-293bf7e00aef"
      },
      "execution_count": null,
      "outputs": [
        {
          "output_type": "execute_result",
          "data": {
            "text/plain": [
              "(5000, 150)"
            ]
          },
          "metadata": {},
          "execution_count": 12
        }
      ]
    },
    {
      "cell_type": "markdown",
      "source": [
        "\n",
        "Building the Network\n",
        "\n",
        "We didn't change the network here, we wanted to use just the embedding layer to assess the model performance."
      ],
      "metadata": {
        "id": "wFtxRjdCphk6"
      }
    },
    {
      "cell_type": "code",
      "source": [
        "# Setting the Sequential Layer for Model Building\n",
        "model = Sequential()\n",
        "\n",
        "# Adding the Embedding Layer with limiting to consider only the top 10,000 Words\n",
        "model.add(Embedding(10000, 8, input_length=maxlen))\n",
        "\n",
        "# Flattening the Size \n",
        "model.add(Flatten())\n",
        "\n",
        "# Adding the Classifer on the top - As the final layer\n",
        "model.add(Dense(1, activation = 'sigmoid'))\n",
        "\n",
        "# Compiling the Model\n",
        "model.compile(optimizer = 'rmsprop', loss = 'binary_crossentropy', metrics = ['acc'])"
      ],
      "metadata": {
        "id": "kamrsWANpnEM"
      },
      "execution_count": null,
      "outputs": []
    },
    {
      "cell_type": "markdown",
      "source": [
        "Summary"
      ],
      "metadata": {
        "id": "oAWp9tigprSR"
      }
    },
    {
      "cell_type": "code",
      "source": [
        "model.summary()"
      ],
      "metadata": {
        "colab": {
          "base_uri": "https://localhost:8080/"
        },
        "id": "Divlp0HXpssw",
        "outputId": "5cdcb1cc-9c3c-4996-c3d1-cc28671e3a50"
      },
      "execution_count": null,
      "outputs": [
        {
          "output_type": "stream",
          "name": "stdout",
          "text": [
            "Model: \"sequential_1\"\n",
            "_________________________________________________________________\n",
            " Layer (type)                Output Shape              Param #   \n",
            "=================================================================\n",
            " embedding_1 (Embedding)     (None, 150, 8)            80000     \n",
            "                                                                 \n",
            " flatten_1 (Flatten)         (None, 1200)              0         \n",
            "                                                                 \n",
            " dense_1 (Dense)             (None, 1)                 1201      \n",
            "                                                                 \n",
            "=================================================================\n",
            "Total params: 81,201\n",
            "Trainable params: 81,201\n",
            "Non-trainable params: 0\n",
            "_________________________________________________________________\n"
          ]
        }
      ]
    },
    {
      "cell_type": "markdown",
      "source": [
        "Execution "
      ],
      "metadata": {
        "id": "2y7VKmZzp6xZ"
      }
    },
    {
      "cell_type": "code",
      "source": [
        "# Setting Callbacks\n",
        "callbacks = ModelCheckpoint(\n",
        "            filepath= \"model2.keras\",\n",
        "            save_best_only= True,\n",
        "            monitor= \"val_loss\"\n",
        "            )\n",
        "\n",
        "\n",
        "# Model Fit - Running the Model\n",
        "Model_2 = model.fit(train_texts, train_labels,\n",
        "                    epochs=30,\n",
        "                    batch_size=32,\n",
        "                    validation_data=(val_texts, val_labels), \n",
        "                    callbacks=callbacks)"
      ],
      "metadata": {
        "colab": {
          "base_uri": "https://localhost:8080/"
        },
        "id": "fah6YjnbqA0-",
        "outputId": "648a5289-e2c2-4482-ebc6-9ec3d2363137"
      },
      "execution_count": null,
      "outputs": [
        {
          "output_type": "stream",
          "name": "stdout",
          "text": [
            "Epoch 1/30\n",
            "4/4 [==============================] - 2s 366ms/step - loss: 0.6939 - acc: 0.5100 - val_loss: 0.6934 - val_acc: 0.4951\n",
            "Epoch 2/30\n",
            "4/4 [==============================] - 2s 595ms/step - loss: 0.6720 - acc: 0.8900 - val_loss: 0.6931 - val_acc: 0.5040\n",
            "Epoch 3/30\n",
            "4/4 [==============================] - 1s 357ms/step - loss: 0.6566 - acc: 0.9400 - val_loss: 0.6932 - val_acc: 0.5037\n",
            "Epoch 4/30\n",
            "4/4 [==============================] - 1s 324ms/step - loss: 0.6428 - acc: 0.9800 - val_loss: 0.6930 - val_acc: 0.5078\n",
            "Epoch 5/30\n",
            "4/4 [==============================] - 1s 297ms/step - loss: 0.6297 - acc: 0.9900 - val_loss: 0.6930 - val_acc: 0.5093\n",
            "Epoch 6/30\n",
            "4/4 [==============================] - 1s 327ms/step - loss: 0.6161 - acc: 0.9900 - val_loss: 0.6929 - val_acc: 0.5141\n",
            "Epoch 7/30\n",
            "4/4 [==============================] - 1s 309ms/step - loss: 0.6028 - acc: 0.9900 - val_loss: 0.6928 - val_acc: 0.5126\n",
            "Epoch 8/30\n",
            "4/4 [==============================] - 1s 332ms/step - loss: 0.5892 - acc: 0.9900 - val_loss: 0.6928 - val_acc: 0.5114\n",
            "Epoch 9/30\n",
            "4/4 [==============================] - 1s 320ms/step - loss: 0.5755 - acc: 0.9900 - val_loss: 0.6928 - val_acc: 0.5153\n",
            "Epoch 10/30\n",
            "4/4 [==============================] - 1s 319ms/step - loss: 0.5608 - acc: 0.9900 - val_loss: 0.6928 - val_acc: 0.5117\n",
            "Epoch 11/30\n",
            "4/4 [==============================] - 1s 320ms/step - loss: 0.5460 - acc: 0.9900 - val_loss: 0.6928 - val_acc: 0.5109\n",
            "Epoch 12/30\n",
            "4/4 [==============================] - 1s 366ms/step - loss: 0.5304 - acc: 0.9900 - val_loss: 0.6928 - val_acc: 0.5123\n",
            "Epoch 13/30\n",
            "4/4 [==============================] - 2s 586ms/step - loss: 0.5142 - acc: 0.9900 - val_loss: 0.6928 - val_acc: 0.5111\n",
            "Epoch 14/30\n",
            "4/4 [==============================] - 1s 309ms/step - loss: 0.4978 - acc: 0.9900 - val_loss: 0.6931 - val_acc: 0.5087\n",
            "Epoch 15/30\n",
            "4/4 [==============================] - 1s 309ms/step - loss: 0.4820 - acc: 1.0000 - val_loss: 0.6930 - val_acc: 0.5101\n",
            "Epoch 16/30\n",
            "4/4 [==============================] - 1s 306ms/step - loss: 0.4647 - acc: 1.0000 - val_loss: 0.6930 - val_acc: 0.5106\n",
            "Epoch 17/30\n",
            "4/4 [==============================] - 1s 311ms/step - loss: 0.4471 - acc: 0.9900 - val_loss: 0.6930 - val_acc: 0.5118\n",
            "Epoch 18/30\n",
            "4/4 [==============================] - 1s 290ms/step - loss: 0.4296 - acc: 1.0000 - val_loss: 0.6930 - val_acc: 0.5132\n",
            "Epoch 19/30\n",
            "4/4 [==============================] - 1s 247ms/step - loss: 0.4123 - acc: 1.0000 - val_loss: 0.6930 - val_acc: 0.5121\n",
            "Epoch 20/30\n",
            "4/4 [==============================] - 1s 318ms/step - loss: 0.3948 - acc: 1.0000 - val_loss: 0.6931 - val_acc: 0.5134\n",
            "Epoch 21/30\n",
            "4/4 [==============================] - 1s 270ms/step - loss: 0.3775 - acc: 1.0000 - val_loss: 0.6932 - val_acc: 0.5125\n",
            "Epoch 22/30\n",
            "4/4 [==============================] - 1s 247ms/step - loss: 0.3600 - acc: 1.0000 - val_loss: 0.6932 - val_acc: 0.5124\n",
            "Epoch 23/30\n",
            "4/4 [==============================] - 1s 330ms/step - loss: 0.3426 - acc: 1.0000 - val_loss: 0.6933 - val_acc: 0.5124\n",
            "Epoch 24/30\n",
            "4/4 [==============================] - 2s 608ms/step - loss: 0.3254 - acc: 1.0000 - val_loss: 0.6934 - val_acc: 0.5127\n",
            "Epoch 25/30\n",
            "4/4 [==============================] - 1s 314ms/step - loss: 0.3087 - acc: 1.0000 - val_loss: 0.6933 - val_acc: 0.5138\n",
            "Epoch 26/30\n",
            "4/4 [==============================] - 2s 518ms/step - loss: 0.2924 - acc: 1.0000 - val_loss: 0.6934 - val_acc: 0.5143\n",
            "Epoch 27/30\n",
            "4/4 [==============================] - 1s 322ms/step - loss: 0.2767 - acc: 1.0000 - val_loss: 0.6936 - val_acc: 0.5144\n",
            "Epoch 28/30\n",
            "4/4 [==============================] - 1s 282ms/step - loss: 0.2613 - acc: 1.0000 - val_loss: 0.6936 - val_acc: 0.5140\n",
            "Epoch 29/30\n",
            "4/4 [==============================] - 1s 200ms/step - loss: 0.2462 - acc: 1.0000 - val_loss: 0.6938 - val_acc: 0.5148\n",
            "Epoch 30/30\n",
            "4/4 [==============================] - 1s 197ms/step - loss: 0.2316 - acc: 1.0000 - val_loss: 0.6940 - val_acc: 0.5153\n"
          ]
        }
      ]
    },
    {
      "cell_type": "markdown",
      "source": [
        "Visualizing Training and Validation Loss/Accuracy\n",
        "\n"
      ],
      "metadata": {
        "id": "LkPNoS8iqKWT"
      }
    },
    {
      "cell_type": "code",
      "source": [
        "accuracy = Model_2.history['acc']\n",
        "val_accuracy = Model_2.history['val_acc']\n",
        "\n",
        "loss = Model_2.history[\"loss\"]\n",
        "val_loss = Model_2.history[\"val_loss\"]\n",
        "\n",
        "epochs = range(1, len(loss) + 1)\n",
        "\n",
        "plt.figure(figsize=(6,4))\n",
        "plt.plot(epochs, accuracy, color=\"grey\", label=\"Training Accuracy\")\n",
        "plt.plot(epochs, val_accuracy, color=\"blue\", label=\"Validation Accuracy\")\n",
        "plt.title(\"Training and Validation Accuracy\")\n",
        "plt.legend()\n",
        "\n",
        "\n",
        "plt.figure(figsize=(6,4))\n",
        "plt.plot(epochs, loss, color=\"grey\", label=\"Training Loss\")\n",
        "plt.plot(epochs, val_loss, color=\"blue\", label=\"Validation Loss\")\n",
        "plt.title(\"Training and Validation Loss\")\n",
        "plt.legend()\n",
        "plt.show()"
      ],
      "metadata": {
        "colab": {
          "base_uri": "https://localhost:8080/",
          "height": 765
        },
        "id": "axQdr9YlqQW3",
        "outputId": "c9cf319a-0b0f-43d4-c932-3b1d4457d945"
      },
      "execution_count": null,
      "outputs": [
        {
          "output_type": "display_data",
          "data": {
            "text/plain": [
              "<Figure size 600x400 with 1 Axes>"
            ],
            "image/png": "[encoded data removed]"
          },
          "metadata": {}
        },
        {
          "output_type": "display_data",
          "data": {
            "text/plain": [
              "<Figure size 600x400 with 1 Axes>"
            ],
            "image/png": "[encoded data removed]"
          },
          "metadata": {}
        }
      ]
    },
    {
      "cell_type": "markdown",
      "source": [
        "Evaluating the Model on Test Set\n",
        "\n"
      ],
      "metadata": {
        "id": "2EVQwqr5qXhP"
      }
    },
    {
      "cell_type": "code",
      "source": [
        "test_model = load_model('model2.keras')\n",
        "Model2_Results = test_model.evaluate(test_texts,test_labels)\n",
        "print(f'Loss: {Model2_Results[0]:.3f}')\n",
        "print(f'Accuracy: {Model2_Results[1]:.3f}')"
      ],
      "metadata": {
        "colab": {
          "base_uri": "https://localhost:8080/"
        },
        "id": "ZdBvwiBqqX8-",
        "outputId": "befb17d7-76fb-4683-a704-75e4ded3d36d"
      },
      "execution_count": null,
      "outputs": [
        {
          "output_type": "stream",
          "name": "stdout",
          "text": [
            "157/157 [==============================] - 0s 2ms/step - loss: 0.6923 - acc: 0.5134\n",
            "Loss: 0.692\n",
            "Accuracy: 0.513\n"
          ]
        }
      ]
    },
    {
      "cell_type": "markdown",
      "source": [
        "The model with 100 training samples which was built with just an embedding layer resulted in 51.3% Accuracy, which is not that bad because the model was just trained with 100 Samples"
      ],
      "metadata": {
        "id": "RWDG8G0UqfpE"
      }
    },
    {
      "cell_type": "markdown",
      "source": [
        "\n",
        "*Model 3 Using Conv1D and Embedding Layer Together*\n",
        "Training - 1000, Validation - 10000 and Test - 5000"
      ],
      "metadata": {
        "id": "FRfYZSKRrAsS"
      }
    },
    {
      "cell_type": "code",
      "source": [
        "# Setting the maximum number of words to be used in the vocabulary\n",
        "num_words = 10000\n",
        "\n",
        "# Loading the IMDB Dataset\n",
        "(train_data, train_labels), (test_data, test_labels) = imdb.load_data(num_words=num_words)\n",
        "\n",
        "# Cut-Off the reviews after 150 words\n",
        "maxlen = 150\n",
        "train_data = pad_sequences(train_data, maxlen=maxlen)\n",
        "test_data = pad_sequences(test_data, maxlen=maxlen)\n",
        "\n",
        "# Combining the Training and Testing data create an entire dataset\n",
        "texts = np.concatenate((train_data, test_data), axis=0)\n",
        "labels = np.concatenate((train_labels, test_labels), axis=0)\n",
        "\n",
        "# Splitting the data into Training and Validation Samples\n",
        "train_texts, val_texts, train_labels, val_labels = train_test_split(texts, labels, train_size=1000, test_size=10000, random_state=42, stratify=labels)\n",
        "\n",
        "# Further split the data to get the test size of 5000 samples\n",
        "_, test_texts, _, test_labels = train_test_split(test_data, test_labels, test_size=5000, random_state=42, stratify=test_labels)\n",
        "     "
      ],
      "metadata": {
        "id": "Nx_vy-xMrGHJ"
      },
      "execution_count": null,
      "outputs": []
    },
    {
      "cell_type": "markdown",
      "source": [
        "Confirming the sizes of the train, validate and test datasets"
      ],
      "metadata": {
        "id": "7OnioYBurLT1"
      }
    },
    {
      "cell_type": "code",
      "source": [
        "train_texts.shape\n"
      ],
      "metadata": {
        "colab": {
          "base_uri": "https://localhost:8080/"
        },
        "id": "u1t_CHtLrN6t",
        "outputId": "83ceb1eb-0c2c-4b60-e56a-791860d231c7"
      },
      "execution_count": null,
      "outputs": [
        {
          "output_type": "execute_result",
          "data": {
            "text/plain": [
              "(1000, 150)"
            ]
          },
          "metadata": {},
          "execution_count": 21
        }
      ]
    },
    {
      "cell_type": "code",
      "source": [
        "val_texts.shape\n"
      ],
      "metadata": {
        "colab": {
          "base_uri": "https://localhost:8080/"
        },
        "id": "mzSK-K89rRRg",
        "outputId": "fcd46d14-ee42-4f5a-f50b-e479c2de6905"
      },
      "execution_count": null,
      "outputs": [
        {
          "output_type": "execute_result",
          "data": {
            "text/plain": [
              "(10000, 150)"
            ]
          },
          "metadata": {},
          "execution_count": 22
        }
      ]
    },
    {
      "cell_type": "code",
      "source": [
        "test_texts.shape\n"
      ],
      "metadata": {
        "colab": {
          "base_uri": "https://localhost:8080/"
        },
        "id": "gRXx019drSPC",
        "outputId": "b5636c7e-8a30-4764-e100-e631d45dd5e1"
      },
      "execution_count": null,
      "outputs": [
        {
          "output_type": "execute_result",
          "data": {
            "text/plain": [
              "(5000, 150)"
            ]
          },
          "metadata": {},
          "execution_count": 23
        }
      ]
    },
    {
      "cell_type": "markdown",
      "source": [
        " Conv1D with Embedding"
      ],
      "metadata": {
        "id": "JHpmLTmMrZI3"
      }
    },
    {
      "cell_type": "code",
      "source": [
        "# Setting the Sequential Layer for Model Building\n",
        "model = Sequential()\n",
        "\n",
        "# Adding the Embedding Layer with limiting to consider only the top 10,000 Words\n",
        "maxlen = 150\n",
        "model.add(Embedding(10000, 8, input_length=maxlen))\n",
        "\n",
        "model.add(Conv1D(512, 3, activation='relu'))\n",
        "model.add(MaxPooling1D(3))\n",
        "\n",
        "model.add(Conv1D(256, 3, activation='relu'))\n",
        "model.add(MaxPooling1D(3))\n",
        "\n",
        "model.add(Conv1D(256, 3, activation='relu'))\n",
        "model.add(Dropout(0.8))\n",
        "model.add(MaxPooling1D(3))\n",
        "\n",
        "model.add(GlobalMaxPooling1D())\n",
        "\n",
        "model.add(Dense(256, activation='relu'))\n",
        "model.add(Dense(1, activation='sigmoid'))\n",
        "\n",
        "\n",
        "# Compiling the Model\n",
        "adam = keras.optimizers.Adam(learning_rate = 0.0001)\n",
        "model.compile(optimizer=adam, loss='binary_crossentropy', metrics=['accuracy'])"
      ],
      "metadata": {
        "id": "KcW1mPNPrjJI"
      },
      "execution_count": null,
      "outputs": []
    },
    {
      "cell_type": "markdown",
      "source": [
        "Summary"
      ],
      "metadata": {
        "id": "u0iHmJHXrmRn"
      }
    },
    {
      "cell_type": "code",
      "source": [
        "model.summary()"
      ],
      "metadata": {
        "colab": {
          "base_uri": "https://localhost:8080/"
        },
        "id": "yZDg6Xq2ro9T",
        "outputId": "6f2087bf-4413-470a-b7b1-74d2c7560e23"
      },
      "execution_count": null,
      "outputs": [
        {
          "output_type": "stream",
          "name": "stdout",
          "text": [
            "Model: \"sequential_2\"\n",
            "_________________________________________________________________\n",
            " Layer (type)                Output Shape              Param #   \n",
            "=================================================================\n",
            " embedding_2 (Embedding)     (None, 150, 8)            80000     \n",
            "                                                                 \n",
            " conv1d (Conv1D)             (None, 148, 512)          12800     \n",
            "                                                                 \n",
            " max_pooling1d (MaxPooling1D  (None, 49, 512)          0         \n",
            " )                                                               \n",
            "                                                                 \n",
            " conv1d_1 (Conv1D)           (None, 47, 256)           393472    \n",
            "                                                                 \n",
            " max_pooling1d_1 (MaxPooling  (None, 15, 256)          0         \n",
            " 1D)                                                             \n",
            "                                                                 \n",
            " conv1d_2 (Conv1D)           (None, 13, 256)           196864    \n",
            "                                                                 \n",
            " dropout (Dropout)           (None, 13, 256)           0         \n",
            "                                                                 \n",
            " max_pooling1d_2 (MaxPooling  (None, 4, 256)           0         \n",
            " 1D)                                                             \n",
            "                                                                 \n",
            " global_max_pooling1d (Globa  (None, 256)              0         \n",
            " lMaxPooling1D)                                                  \n",
            "                                                                 \n",
            " dense_2 (Dense)             (None, 256)               65792     \n",
            "                                                                 \n",
            " dense_3 (Dense)             (None, 1)                 257       \n",
            "                                                                 \n",
            "=================================================================\n",
            "Total params: 749,185\n",
            "Trainable params: 749,185\n",
            "Non-trainable params: 0\n",
            "_________________________________________________________________\n"
          ]
        }
      ]
    },
    {
      "cell_type": "markdown",
      "source": [
        "Running the Model\n",
        "\n"
      ],
      "metadata": {
        "id": "8sRN7u9qrx2B"
      }
    },
    {
      "cell_type": "code",
      "source": [
        "# Setting Callbacks\n",
        "callbacks = ModelCheckpoint(\n",
        "            filepath= \"model3.keras\",\n",
        "            save_best_only= True,\n",
        "            monitor= \"val_loss\"\n",
        "            )\n",
        "\n",
        "\n",
        "# Model Fit - Running the Model\n",
        "Model_3 = model.fit(train_texts, train_labels,\n",
        "                    epochs=30,\n",
        "                    batch_size=32,\n",
        "                    validation_data=(val_texts, val_labels), \n",
        "                    callbacks=callbacks)"
      ],
      "metadata": {
        "colab": {
          "base_uri": "https://localhost:8080/"
        },
        "id": "E7X9U-kJr2Jq",
        "outputId": "3d571d23-7295-42e4-b442-d644984db21e"
      },
      "execution_count": null,
      "outputs": [
        {
          "output_type": "stream",
          "name": "stdout",
          "text": [
            "Epoch 1/30\n",
            "32/32 [==============================] - 17s 311ms/step - loss: 0.6945 - accuracy: 0.4910 - val_loss: 0.6931 - val_accuracy: 0.5002\n",
            "Epoch 2/30\n",
            "32/32 [==============================] - 7s 209ms/step - loss: 0.6932 - accuracy: 0.5050 - val_loss: 0.6931 - val_accuracy: 0.5307\n",
            "Epoch 3/30\n",
            "32/32 [==============================] - 6s 190ms/step - loss: 0.6932 - accuracy: 0.4950 - val_loss: 0.6931 - val_accuracy: 0.5033\n",
            "Epoch 4/30\n",
            "32/32 [==============================] - 7s 228ms/step - loss: 0.6933 - accuracy: 0.4980 - val_loss: 0.6931 - val_accuracy: 0.5000\n",
            "Epoch 5/30\n",
            "32/32 [==============================] - 3s 92ms/step - loss: 0.6928 - accuracy: 0.5130 - val_loss: 0.6930 - val_accuracy: 0.5094\n",
            "Epoch 6/30\n",
            "32/32 [==============================] - 4s 135ms/step - loss: 0.6919 - accuracy: 0.5160 - val_loss: 0.6929 - val_accuracy: 0.5484\n",
            "Epoch 7/30\n",
            "32/32 [==============================] - 5s 168ms/step - loss: 0.6913 - accuracy: 0.5310 - val_loss: 0.6927 - val_accuracy: 0.5203\n",
            "Epoch 8/30\n",
            "32/32 [==============================] - 2s 79ms/step - loss: 0.6894 - accuracy: 0.5500 - val_loss: 0.6926 - val_accuracy: 0.5004\n",
            "Epoch 9/30\n",
            "32/32 [==============================] - 2s 69ms/step - loss: 0.6872 - accuracy: 0.5840 - val_loss: 0.6916 - val_accuracy: 0.5141\n",
            "Epoch 10/30\n",
            "32/32 [==============================] - 4s 144ms/step - loss: 0.6775 - accuracy: 0.5750 - val_loss: 0.6890 - val_accuracy: 0.6003\n",
            "Epoch 11/30\n",
            "32/32 [==============================] - 4s 118ms/step - loss: 0.6532 - accuracy: 0.6380 - val_loss: 0.6827 - val_accuracy: 0.5821\n",
            "Epoch 12/30\n",
            "32/32 [==============================] - 3s 95ms/step - loss: 0.5692 - accuracy: 0.7490 - val_loss: 0.6583 - val_accuracy: 0.6727\n",
            "Epoch 13/30\n",
            "32/32 [==============================] - 3s 89ms/step - loss: 0.4294 - accuracy: 0.8090 - val_loss: 0.6272 - val_accuracy: 0.6850\n",
            "Epoch 14/30\n",
            "32/32 [==============================] - 2s 64ms/step - loss: 0.2889 - accuracy: 0.8880 - val_loss: 0.5972 - val_accuracy: 0.7104\n",
            "Epoch 15/30\n",
            "32/32 [==============================] - 3s 112ms/step - loss: 0.1848 - accuracy: 0.9430 - val_loss: 0.5769 - val_accuracy: 0.7200\n",
            "Epoch 16/30\n",
            "32/32 [==============================] - 3s 84ms/step - loss: 0.1085 - accuracy: 0.9670 - val_loss: 0.5620 - val_accuracy: 0.7196\n",
            "Epoch 17/30\n",
            "32/32 [==============================] - 3s 89ms/step - loss: 0.0723 - accuracy: 0.9780 - val_loss: 0.5539 - val_accuracy: 0.7217\n",
            "Epoch 18/30\n",
            "32/32 [==============================] - 3s 89ms/step - loss: 0.0429 - accuracy: 0.9910 - val_loss: 0.5475 - val_accuracy: 0.7204\n",
            "Epoch 19/30\n",
            "32/32 [==============================] - 2s 60ms/step - loss: 0.0288 - accuracy: 0.9940 - val_loss: 0.5442 - val_accuracy: 0.7224\n",
            "Epoch 20/30\n",
            "32/32 [==============================] - 3s 93ms/step - loss: 0.0175 - accuracy: 0.9980 - val_loss: 0.5439 - val_accuracy: 0.7219\n",
            "Epoch 21/30\n",
            "32/32 [==============================] - 2s 73ms/step - loss: 0.0125 - accuracy: 0.9990 - val_loss: 0.5413 - val_accuracy: 0.7225\n",
            "Epoch 22/30\n",
            "32/32 [==============================] - 1s 36ms/step - loss: 0.0131 - accuracy: 0.9980 - val_loss: 0.5417 - val_accuracy: 0.7224\n",
            "Epoch 23/30\n",
            "32/32 [==============================] - 3s 87ms/step - loss: 0.0081 - accuracy: 0.9990 - val_loss: 0.5422 - val_accuracy: 0.7230\n",
            "Epoch 24/30\n",
            "32/32 [==============================] - 4s 144ms/step - loss: 0.0064 - accuracy: 0.9990 - val_loss: 0.5455 - val_accuracy: 0.7206\n",
            "Epoch 25/30\n",
            "32/32 [==============================] - 2s 62ms/step - loss: 0.0054 - accuracy: 0.9990 - val_loss: 0.5667 - val_accuracy: 0.7126\n",
            "Epoch 26/30\n",
            "32/32 [==============================] - 2s 55ms/step - loss: 0.0055 - accuracy: 0.9990 - val_loss: 0.5454 - val_accuracy: 0.7224\n",
            "Epoch 27/30\n",
            "32/32 [==============================] - 2s 68ms/step - loss: 0.0035 - accuracy: 0.9990 - val_loss: 0.5494 - val_accuracy: 0.7206\n",
            "Epoch 28/30\n",
            "32/32 [==============================] - 2s 55ms/step - loss: 0.0037 - accuracy: 0.9990 - val_loss: 0.5480 - val_accuracy: 0.7217\n",
            "Epoch 29/30\n",
            "32/32 [==============================] - 1s 42ms/step - loss: 0.0040 - accuracy: 0.9980 - val_loss: 0.5508 - val_accuracy: 0.7219\n",
            "Epoch 30/30\n",
            "32/32 [==============================] - 2s 79ms/step - loss: 0.0028 - accuracy: 1.0000 - val_loss: 0.5538 - val_accuracy: 0.7213\n"
          ]
        }
      ]
    },
    {
      "cell_type": "markdown",
      "source": [
        "Visualizing the Training and Validation Loss/Accuracy\n",
        "\n"
      ],
      "metadata": {
        "id": "rFyLmKq9r5mW"
      }
    },
    {
      "cell_type": "code",
      "source": [
        "accuracy = Model_3.history['accuracy']\n",
        "val_accuracy = Model_3.history['val_accuracy']\n",
        "\n",
        "loss = Model_3.history[\"loss\"]\n",
        "val_loss = Model_3.history[\"val_loss\"]\n",
        "\n",
        "epochs = range(1, len(loss) + 1)\n",
        "\n",
        "plt.figure(figsize=(6,4))\n",
        "plt.plot(epochs, accuracy, color=\"grey\", label=\"Training Accuracy\")\n",
        "plt.plot(epochs, val_accuracy, color=\"blue\", label=\"Validation Accuracy\")\n",
        "plt.title(\"Training and Validation Accuracy\")\n",
        "plt.legend()\n",
        "\n",
        "\n",
        "plt.figure(figsize=(6,4))\n",
        "plt.plot(epochs, loss, color=\"grey\", label=\"Training Loss\")\n",
        "plt.plot(epochs, val_loss, color=\"blue\", label=\"Validation Loss\")\n",
        "plt.title(\"Training and Validation Loss\")\n",
        "plt.legend()\n",
        "plt.show()"
      ],
      "metadata": {
        "colab": {
          "base_uri": "https://localhost:8080/",
          "height": 765
        },
        "id": "QdQ_Y-oDr6oR",
        "outputId": "f7d1c968-f42c-4382-c922-da7ba0001fe1"
      },
      "execution_count": null,
      "outputs": [
        {
          "output_type": "display_data",
          "data": {
            "text/plain": [
              "<Figure size 600x400 with 1 Axes>"
            ],
            "image/png": "[encoded data removed]"
          },
          "metadata": {}
        },
        {
          "output_type": "display_data",
          "data": {
            "text/plain": [
              "<Figure size 600x400 with 1 Axes>"
            ],
            "image/png": "[encoded data removed]"
          },
          "metadata": {}
        }
      ]
    },
    {
      "cell_type": "markdown",
      "source": [
        "Evaluation"
      ],
      "metadata": {
        "id": "aValpsLVr-NW"
      }
    },
    {
      "cell_type": "code",
      "source": [
        "test_model = load_model('model3.keras')\n",
        "Model3_Results = test_model.evaluate(test_texts,test_labels)\n",
        "print(f'Loss: {Model3_Results[0]:.3f}')\n",
        "print(f'Accuracy: {Model3_Results[1]:.3f}')"
      ],
      "metadata": {
        "colab": {
          "base_uri": "https://localhost:8080/"
        },
        "id": "GbqEJg4fsEK9",
        "outputId": "a1068226-3a6f-49f9-9dc8-d87ce4f69e29"
      },
      "execution_count": null,
      "outputs": [
        {
          "output_type": "stream",
          "name": "stdout",
          "text": [
            "157/157 [==============================] - 1s 4ms/step - loss: 0.5287 - accuracy: 0.7374\n",
            "Loss: 0.529\n",
            "Accuracy: 0.737\n"
          ]
        }
      ]
    },
    {
      "cell_type": "markdown",
      "source": [
        "This is interesting to observe as soon as we increase the training sample size to 1000 and by building a complex network i.e. using Conv1D along with Embedding actually resulted in 73.7% Accuracy."
      ],
      "metadata": {
        "id": "DhYXkUTlsI-C"
      }
    },
    {
      "cell_type": "markdown",
      "source": [
        "\n",
        "*Model 4 Conv1D and Embedding Layer Together With Change in network*\n",
        "Training - 25000, Validation - 10000 and Test - 5000"
      ],
      "metadata": {
        "id": "ozxqRzQUsNn2"
      }
    },
    {
      "cell_type": "code",
      "source": [
        "# Setting the maximum number of words to be used in the vocabulary\n",
        "num_words = 10000\n",
        "\n",
        "# Loading the IMDB Dataset\n",
        "(train_data, train_labels), (test_data, test_labels) = imdb.load_data(num_words=num_words)\n",
        "\n",
        "# Cut-Off the reviews after 150 words\n",
        "maxlen = 150\n",
        "train_data = pad_sequences(train_data, maxlen=maxlen)\n",
        "test_data = pad_sequences(test_data, maxlen=maxlen)\n",
        "\n",
        "# Combining the Training and Testing data create an entire dataset\n",
        "texts = np.concatenate((train_data, test_data), axis=0)\n",
        "labels = np.concatenate((train_labels, test_labels), axis=0)\n",
        "\n",
        "# Splitting the data into Training and Validation Samples\n",
        "train_texts, val_texts, train_labels, val_labels = train_test_split(texts, labels, train_size=25000, test_size=10000, random_state=42, stratify=labels)\n",
        "\n",
        "# Further split the data to get the test size of 5000 samples\n",
        "_, test_texts, _, test_labels = train_test_split(test_data, test_labels, test_size=5000, random_state=42, stratify=test_labels)"
      ],
      "metadata": {
        "id": "oeFnC-AzsJ1f"
      },
      "execution_count": null,
      "outputs": []
    },
    {
      "cell_type": "markdown",
      "source": [
        "Verifying the size of the training, validation and test datsets\n",
        "\n"
      ],
      "metadata": {
        "id": "LT03SOA9y3zE"
      }
    },
    {
      "cell_type": "code",
      "source": [
        "train_texts.shape\n"
      ],
      "metadata": {
        "colab": {
          "base_uri": "https://localhost:8080/"
        },
        "id": "21SzpBvay9Vs",
        "outputId": "6bf6e5f3-7195-44f4-f6c5-aa838029a7fc"
      },
      "execution_count": null,
      "outputs": [
        {
          "output_type": "execute_result",
          "data": {
            "text/plain": [
              "(25000, 150)"
            ]
          },
          "metadata": {},
          "execution_count": 30
        }
      ]
    },
    {
      "cell_type": "code",
      "source": [
        "val_texts.shape\n"
      ],
      "metadata": {
        "colab": {
          "base_uri": "https://localhost:8080/"
        },
        "id": "BL7axI7by_91",
        "outputId": "2548c87e-60c7-4188-c58b-f41b61ffdf36"
      },
      "execution_count": null,
      "outputs": [
        {
          "output_type": "execute_result",
          "data": {
            "text/plain": [
              "(10000, 150)"
            ]
          },
          "metadata": {},
          "execution_count": 31
        }
      ]
    },
    {
      "cell_type": "code",
      "source": [
        "test_texts.shape\n"
      ],
      "metadata": {
        "colab": {
          "base_uri": "https://localhost:8080/"
        },
        "id": "pMjATSb7zCSY",
        "outputId": "c9281c6c-395b-4b89-adcd-04eb3d46308a"
      },
      "execution_count": null,
      "outputs": [
        {
          "output_type": "execute_result",
          "data": {
            "text/plain": [
              "(5000, 150)"
            ]
          },
          "metadata": {},
          "execution_count": 32
        }
      ]
    },
    {
      "cell_type": "markdown",
      "source": [
        "Building the Network\n",
        "\n",
        "We are adding an additional layer to both the Conv1D as well as the dense network, we also changed the embedding vector dimension to 12 and added dropout layers to all the input layers so as to avoid overfitting"
      ],
      "metadata": {
        "id": "NxHuLRwyzE8i"
      }
    },
    {
      "cell_type": "code",
      "source": [
        "# Setting the Sequential Layer for Model Building\n",
        "model = Sequential()\n",
        "\n",
        "# Adding the Embedding Layer with limiting to consider only the top 10,000 Words\n",
        "maxlen = 150\n",
        "model.add(Embedding(10000, 12, input_length=maxlen))\n",
        "\n",
        "model.add(Conv1D(512, 3, activation='relu'))\n",
        "model.add(Dropout(0.5))\n",
        "model.add(MaxPooling1D(2))\n",
        "\n",
        "model.add(Conv1D(256, 3, activation='relu'))\n",
        "model.add(Dropout(0.5))\n",
        "model.add(MaxPooling1D(2))\n",
        "\n",
        "model.add(Conv1D(256, 3, activation='relu'))\n",
        "model.add(Dropout(0.5))\n",
        "model.add(MaxPooling1D(2))\n",
        "\n",
        "model.add(Conv1D(128, 3, activation='relu'))\n",
        "model.add(Dropout(0.5))\n",
        "model.add(MaxPooling1D(2))\n",
        "\n",
        "model.add(GlobalMaxPooling1D())\n",
        "\n",
        "model.add(Dense(512, activation='relu'))\n",
        "model.add(Dropout(0.5))\n",
        "model.add(Dense(512, activation='relu'))\n",
        "model.add(Dropout(0.5))\n",
        "model.add(Dense(1, activation='sigmoid'))\n",
        "\n",
        "\n",
        "# Compiling the Model\n",
        "adam = keras.optimizers.Adam(learning_rate = 0.0002)\n",
        "model.compile(optimizer=adam, loss='binary_crossentropy', metrics=['accuracy'])\n",
        "     "
      ],
      "metadata": {
        "id": "SXdNp-su0Il2"
      },
      "execution_count": null,
      "outputs": []
    },
    {
      "cell_type": "markdown",
      "source": [
        "Summary"
      ],
      "metadata": {
        "id": "TLCr1dP80ODY"
      }
    },
    {
      "cell_type": "code",
      "source": [
        "model.summary()"
      ],
      "metadata": {
        "colab": {
          "base_uri": "https://localhost:8080/"
        },
        "id": "hTHvFtgO0QC6",
        "outputId": "8fd6b030-23e2-4230-9ecb-99c0f5fbdf41"
      },
      "execution_count": null,
      "outputs": [
        {
          "output_type": "stream",
          "name": "stdout",
          "text": [
            "Model: \"sequential_3\"\n",
            "_________________________________________________________________\n",
            " Layer (type)                Output Shape              Param #   \n",
            "=================================================================\n",
            " embedding_3 (Embedding)     (None, 150, 12)           120000    \n",
            "                                                                 \n",
            " conv1d_3 (Conv1D)           (None, 148, 512)          18944     \n",
            "                                                                 \n",
            " dropout_1 (Dropout)         (None, 148, 512)          0         \n",
            "                                                                 \n",
            " max_pooling1d_3 (MaxPooling  (None, 74, 512)          0         \n",
            " 1D)                                                             \n",
            "                                                                 \n",
            " conv1d_4 (Conv1D)           (None, 72, 256)           393472    \n",
            "                                                                 \n",
            " dropout_2 (Dropout)         (None, 72, 256)           0         \n",
            "                                                                 \n",
            " max_pooling1d_4 (MaxPooling  (None, 36, 256)          0         \n",
            " 1D)                                                             \n",
            "                                                                 \n",
            " conv1d_5 (Conv1D)           (None, 34, 256)           196864    \n",
            "                                                                 \n",
            " dropout_3 (Dropout)         (None, 34, 256)           0         \n",
            "                                                                 \n",
            " max_pooling1d_5 (MaxPooling  (None, 17, 256)          0         \n",
            " 1D)                                                             \n",
            "                                                                 \n",
            " conv1d_6 (Conv1D)           (None, 15, 128)           98432     \n",
            "                                                                 \n",
            " dropout_4 (Dropout)         (None, 15, 128)           0         \n",
            "                                                                 \n",
            " max_pooling1d_6 (MaxPooling  (None, 7, 128)           0         \n",
            " 1D)                                                             \n",
            "                                                                 \n",
            " global_max_pooling1d_1 (Glo  (None, 128)              0         \n",
            " balMaxPooling1D)                                                \n",
            "                                                                 \n",
            " dense_4 (Dense)             (None, 512)               66048     \n",
            "                                                                 \n",
            " dropout_5 (Dropout)         (None, 512)               0         \n",
            "                                                                 \n",
            " dense_5 (Dense)             (None, 512)               262656    \n",
            "                                                                 \n",
            " dropout_6 (Dropout)         (None, 512)               0         \n",
            "                                                                 \n",
            " dense_6 (Dense)             (None, 1)                 513       \n",
            "                                                                 \n",
            "=================================================================\n",
            "Total params: 1,156,929\n",
            "Trainable params: 1,156,929\n",
            "Non-trainable params: 0\n",
            "_________________________________________________________________\n"
          ]
        }
      ]
    },
    {
      "cell_type": "markdown",
      "source": [
        "Running the model"
      ],
      "metadata": {
        "id": "vTrvayox0crN"
      }
    },
    {
      "cell_type": "code",
      "source": [
        "# Setting Callbacks\n",
        "callbacks = ModelCheckpoint(\n",
        "            filepath= \"model4.keras\",\n",
        "            save_best_only= True,\n",
        "            monitor= \"val_loss\"\n",
        "            )\n",
        "\n",
        "\n",
        "# Model Fit - Running the Model\n",
        "Model_4 = model.fit(train_texts, train_labels,\n",
        "                    epochs=50,\n",
        "                    batch_size=64,\n",
        "                    validation_data=(val_texts, val_labels), \n",
        "                    callbacks=callbacks)"
      ],
      "metadata": {
        "colab": {
          "base_uri": "https://localhost:8080/"
        },
        "id": "a4eFoMeJ0ekz",
        "outputId": "671ecc24-9b9d-49e6-babb-12f3ecb13788"
      },
      "execution_count": null,
      "outputs": [
        {
          "output_type": "stream",
          "name": "stdout",
          "text": [
            "Epoch 1/50\n",
            "391/391 [==============================] - 57s 135ms/step - loss: 0.6935 - accuracy: 0.5049 - val_loss: 0.6931 - val_accuracy: 0.5156\n",
            "Epoch 2/50\n",
            "391/391 [==============================] - 18s 47ms/step - loss: 0.6682 - accuracy: 0.5576 - val_loss: 0.5771 - val_accuracy: 0.7866\n",
            "Epoch 3/50\n",
            "391/391 [==============================] - 11s 27ms/step - loss: 0.3852 - accuracy: 0.8322 - val_loss: 0.5183 - val_accuracy: 0.8422\n",
            "Epoch 4/50\n",
            "391/391 [==============================] - 9s 22ms/step - loss: 0.2902 - accuracy: 0.8810 - val_loss: 0.4614 - val_accuracy: 0.8367\n",
            "Epoch 5/50\n",
            "391/391 [==============================] - 10s 27ms/step - loss: 0.2437 - accuracy: 0.9033 - val_loss: 0.4627 - val_accuracy: 0.8493\n",
            "Epoch 6/50\n",
            "391/391 [==============================] - 8s 20ms/step - loss: 0.2085 - accuracy: 0.9186 - val_loss: 0.4117 - val_accuracy: 0.8483\n",
            "Epoch 7/50\n",
            "391/391 [==============================] - 8s 22ms/step - loss: 0.1801 - accuracy: 0.9324 - val_loss: 0.3930 - val_accuracy: 0.8421\n",
            "Epoch 8/50\n",
            "391/391 [==============================] - 7s 19ms/step - loss: 0.1506 - accuracy: 0.9448 - val_loss: 0.3838 - val_accuracy: 0.8394\n",
            "Epoch 9/50\n",
            "391/391 [==============================] - 7s 18ms/step - loss: 0.1281 - accuracy: 0.9549 - val_loss: 0.3857 - val_accuracy: 0.8307\n",
            "Epoch 10/50\n",
            "391/391 [==============================] - 6s 17ms/step - loss: 0.1103 - accuracy: 0.9601 - val_loss: 0.3883 - val_accuracy: 0.8279\n",
            "Epoch 11/50\n",
            "391/391 [==============================] - 8s 20ms/step - loss: 0.0869 - accuracy: 0.9703 - val_loss: 0.3982 - val_accuracy: 0.8267\n",
            "Epoch 12/50\n",
            "391/391 [==============================] - 7s 17ms/step - loss: 0.0790 - accuracy: 0.9739 - val_loss: 0.4100 - val_accuracy: 0.8209\n",
            "Epoch 13/50\n",
            "391/391 [==============================] - 8s 21ms/step - loss: 0.0609 - accuracy: 0.9792 - val_loss: 0.4180 - val_accuracy: 0.8208\n",
            "Epoch 14/50\n",
            "391/391 [==============================] - 8s 21ms/step - loss: 0.0530 - accuracy: 0.9824 - val_loss: 0.4308 - val_accuracy: 0.8190\n",
            "Epoch 15/50\n",
            "391/391 [==============================] - 7s 18ms/step - loss: 0.0444 - accuracy: 0.9852 - val_loss: 0.4715 - val_accuracy: 0.8142\n",
            "Epoch 16/50\n",
            "391/391 [==============================] - 8s 21ms/step - loss: 0.0417 - accuracy: 0.9864 - val_loss: 0.4516 - val_accuracy: 0.8167\n",
            "Epoch 17/50\n",
            "391/391 [==============================] - 7s 18ms/step - loss: 0.0348 - accuracy: 0.9892 - val_loss: 0.4887 - val_accuracy: 0.8166\n",
            "Epoch 18/50\n",
            "391/391 [==============================] - 8s 19ms/step - loss: 0.0308 - accuracy: 0.9896 - val_loss: 0.5274 - val_accuracy: 0.8146\n",
            "Epoch 19/50\n",
            "391/391 [==============================] - 7s 18ms/step - loss: 0.0330 - accuracy: 0.9894 - val_loss: 0.4930 - val_accuracy: 0.8131\n",
            "Epoch 20/50\n",
            "391/391 [==============================] - 7s 18ms/step - loss: 0.0262 - accuracy: 0.9915 - val_loss: 0.5537 - val_accuracy: 0.8123\n",
            "Epoch 21/50\n",
            "391/391 [==============================] - 7s 18ms/step - loss: 0.0240 - accuracy: 0.9919 - val_loss: 0.6195 - val_accuracy: 0.8114\n",
            "Epoch 22/50\n",
            "391/391 [==============================] - 6s 17ms/step - loss: 0.0252 - accuracy: 0.9910 - val_loss: 0.6388 - val_accuracy: 0.8101\n",
            "Epoch 23/50\n",
            "391/391 [==============================] - 7s 19ms/step - loss: 0.0224 - accuracy: 0.9921 - val_loss: 0.5753 - val_accuracy: 0.8090\n",
            "Epoch 24/50\n",
            "391/391 [==============================] - 6s 16ms/step - loss: 0.0167 - accuracy: 0.9948 - val_loss: 0.6621 - val_accuracy: 0.8127\n",
            "Epoch 25/50\n",
            "391/391 [==============================] - 6s 16ms/step - loss: 0.0191 - accuracy: 0.9934 - val_loss: 0.6087 - val_accuracy: 0.8106\n",
            "Epoch 26/50\n",
            "391/391 [==============================] - 6s 15ms/step - loss: 0.0173 - accuracy: 0.9940 - val_loss: 0.6826 - val_accuracy: 0.8082\n",
            "Epoch 27/50\n",
            "391/391 [==============================] - 8s 20ms/step - loss: 0.0241 - accuracy: 0.9912 - val_loss: 0.6385 - val_accuracy: 0.8090\n",
            "Epoch 28/50\n",
            "391/391 [==============================] - 7s 17ms/step - loss: 0.0141 - accuracy: 0.9947 - val_loss: 0.7190 - val_accuracy: 0.8087\n",
            "Epoch 29/50\n",
            "391/391 [==============================] - 7s 18ms/step - loss: 0.0150 - accuracy: 0.9948 - val_loss: 0.7179 - val_accuracy: 0.8096\n",
            "Epoch 30/50\n",
            "391/391 [==============================] - 7s 19ms/step - loss: 0.0156 - accuracy: 0.9947 - val_loss: 0.8123 - val_accuracy: 0.8076\n",
            "Epoch 31/50\n",
            "391/391 [==============================] - 7s 18ms/step - loss: 0.0143 - accuracy: 0.9954 - val_loss: 0.6675 - val_accuracy: 0.8123\n",
            "Epoch 32/50\n",
            "391/391 [==============================] - 7s 17ms/step - loss: 0.0116 - accuracy: 0.9962 - val_loss: 0.7795 - val_accuracy: 0.8140\n",
            "Epoch 33/50\n",
            "391/391 [==============================] - 7s 18ms/step - loss: 0.0113 - accuracy: 0.9964 - val_loss: 0.7428 - val_accuracy: 0.8149\n",
            "Epoch 34/50\n",
            "391/391 [==============================] - 7s 18ms/step - loss: 0.0109 - accuracy: 0.9962 - val_loss: 0.9162 - val_accuracy: 0.8131\n",
            "Epoch 35/50\n",
            "391/391 [==============================] - 7s 17ms/step - loss: 0.0103 - accuracy: 0.9965 - val_loss: 0.7616 - val_accuracy: 0.8118\n",
            "Epoch 36/50\n",
            "391/391 [==============================] - 7s 18ms/step - loss: 0.0119 - accuracy: 0.9957 - val_loss: 0.8962 - val_accuracy: 0.8021\n",
            "Epoch 37/50\n",
            "391/391 [==============================] - 9s 22ms/step - loss: 0.0096 - accuracy: 0.9969 - val_loss: 0.9197 - val_accuracy: 0.8124\n",
            "Epoch 38/50\n",
            "391/391 [==============================] - 7s 18ms/step - loss: 0.0102 - accuracy: 0.9960 - val_loss: 1.0082 - val_accuracy: 0.8047\n",
            "Epoch 39/50\n",
            "391/391 [==============================] - 7s 18ms/step - loss: 0.0115 - accuracy: 0.9963 - val_loss: 0.8070 - val_accuracy: 0.8112\n",
            "Epoch 40/50\n",
            "391/391 [==============================] - 8s 20ms/step - loss: 0.0121 - accuracy: 0.9961 - val_loss: 0.9201 - val_accuracy: 0.8124\n",
            "Epoch 41/50\n",
            "391/391 [==============================] - 7s 17ms/step - loss: 0.0088 - accuracy: 0.9972 - val_loss: 0.8643 - val_accuracy: 0.8134\n",
            "Epoch 42/50\n",
            "391/391 [==============================] - 7s 19ms/step - loss: 0.0089 - accuracy: 0.9970 - val_loss: 0.9648 - val_accuracy: 0.8145\n",
            "Epoch 43/50\n",
            "391/391 [==============================] - 7s 18ms/step - loss: 0.0059 - accuracy: 0.9980 - val_loss: 1.1473 - val_accuracy: 0.8080\n",
            "Epoch 44/50\n",
            "391/391 [==============================] - 8s 20ms/step - loss: 0.0123 - accuracy: 0.9960 - val_loss: 0.9494 - val_accuracy: 0.8100\n",
            "Epoch 45/50\n",
            "391/391 [==============================] - 8s 20ms/step - loss: 0.0060 - accuracy: 0.9980 - val_loss: 0.9873 - val_accuracy: 0.8104\n",
            "Epoch 46/50\n",
            "391/391 [==============================] - 7s 18ms/step - loss: 0.0079 - accuracy: 0.9974 - val_loss: 0.9025 - val_accuracy: 0.8131\n",
            "Epoch 47/50\n",
            "391/391 [==============================] - 7s 18ms/step - loss: 0.0056 - accuracy: 0.9982 - val_loss: 0.9146 - val_accuracy: 0.8114\n",
            "Epoch 48/50\n",
            "391/391 [==============================] - 7s 17ms/step - loss: 0.0087 - accuracy: 0.9976 - val_loss: 1.1133 - val_accuracy: 0.7901\n",
            "Epoch 49/50\n",
            "391/391 [==============================] - 7s 19ms/step - loss: 0.0087 - accuracy: 0.9975 - val_loss: 0.9015 - val_accuracy: 0.8050\n",
            "Epoch 50/50\n",
            "391/391 [==============================] - 6s 16ms/step - loss: 0.0088 - accuracy: 0.9966 - val_loss: 0.9240 - val_accuracy: 0.8065\n"
          ]
        }
      ]
    },
    {
      "cell_type": "markdown",
      "source": [
        "Visualizing the Training and Validation Loss/Accuracy\n",
        "\n"
      ],
      "metadata": {
        "id": "YkJHyLTQ0l2L"
      }
    },
    {
      "cell_type": "code",
      "source": [
        "accuracy = Model_4.history['accuracy']\n",
        "val_accuracy = Model_4.history['val_accuracy']\n",
        "\n",
        "loss = Model_4.history[\"loss\"]\n",
        "val_loss = Model_4.history[\"val_loss\"]\n",
        "\n",
        "epochs = range(1, len(loss) + 1)\n",
        "\n",
        "plt.figure(figsize=(6,4))\n",
        "plt.plot(epochs, accuracy, color=\"grey\", label=\"Training Accuracy\")\n",
        "plt.plot(epochs, val_accuracy, color=\"blue\", label=\"Validation Accuracy\")\n",
        "plt.title(\"Training and Validation Accuracy\")\n",
        "plt.legend()\n",
        "\n",
        "\n",
        "plt.figure(figsize=(6,4))\n",
        "plt.plot(epochs, loss, color=\"grey\", label=\"Training Loss\")\n",
        "plt.plot(epochs, val_loss, color=\"blue\", label=\"Validation Loss\")\n",
        "plt.title(\"Training and Validation Loss\")\n",
        "plt.legend()\n",
        "plt.show()\n",
        "     "
      ],
      "metadata": {
        "colab": {
          "base_uri": "https://localhost:8080/",
          "height": 765
        },
        "id": "ZtxTRtJy0hLf",
        "outputId": "3713b628-793a-484f-cc31-7f91f0e3183a"
      },
      "execution_count": null,
      "outputs": [
        {
          "output_type": "display_data",
          "data": {
            "text/plain": [
              "<Figure size 600x400 with 1 Axes>"
            ],
            "image/png": "[encoded data removed]"
          },
          "metadata": {}
        },
        {
          "output_type": "display_data",
          "data": {
            "text/plain": [
              "<Figure size 600x400 with 1 Axes>"
            ],
            "image/png": "[encoded data removed]"
          },
          "metadata": {}
        }
      ]
    },
    {
      "cell_type": "markdown",
      "source": [
        "Test set"
      ],
      "metadata": {
        "id": "SFFNlKgh0vvp"
      }
    },
    {
      "cell_type": "code",
      "source": [
        "test_model = load_model('model4.keras')\n",
        "Model4_Results = test_model.evaluate(test_texts,test_labels)\n",
        "print(f'Loss: {Model4_Results[0]:.3f}')\n",
        "print(f'Accuracy: {Model4_Results[1]:.3f}')"
      ],
      "metadata": {
        "colab": {
          "base_uri": "https://localhost:8080/"
        },
        "id": "7IbfNayY0xSi",
        "outputId": "47c2edec-98be-421c-abab-06624a2dc24c"
      },
      "execution_count": null,
      "outputs": [
        {
          "output_type": "stream",
          "name": "stdout",
          "text": [
            "157/157 [==============================] - 1s 6ms/step - loss: 0.3169 - accuracy: 0.8978\n",
            "Loss: 0.317\n",
            "Accuracy: 0.898\n"
          ]
        }
      ]
    },
    {
      "cell_type": "markdown",
      "source": [
        "We designed a more intricate neural network by augmenting the input layers of the Conv1D and incorporating Dropout for each layer to prevent overfitting.\n",
        "\n",
        "Additionally, we added two dense layers with Dropout and used Adam optimizer with a learning rate of 0.0002. We trained this network with 25,000 samples and achieved an accuracy of 89.8%."
      ],
      "metadata": {
        "id": "piGonMOf03Q6"
      }
    },
    {
      "cell_type": "markdown",
      "source": [
        "*Model 5 Conv1D and Embedding Layer with Change in Embedding Vector*\n",
        "Training - 35000, Validation - 10000 and Test - 5000"
      ],
      "metadata": {
        "id": "IK4feFXK17fO"
      }
    },
    {
      "cell_type": "code",
      "source": [
        "# Setting the maximum number of words to be used in the vocabulary\n",
        "num_words = 10000\n",
        "\n",
        "# Loading the IMDB Dataset\n",
        "(train_data, train_labels), (test_data, test_labels) = imdb.load_data(num_words=num_words)\n",
        "\n",
        "# Cut-Off the reviews after 150 words\n",
        "maxlen = 150\n",
        "train_data = pad_sequences(train_data, maxlen=maxlen)\n",
        "test_data = pad_sequences(test_data, maxlen=maxlen)\n",
        "\n",
        "# Combining the Training and Testing data create an entire dataset\n",
        "texts = np.concatenate((train_data, test_data), axis=0)\n",
        "labels = np.concatenate((train_labels, test_labels), axis=0)\n",
        "\n",
        "# Splitting the data into Training and Validation Samples\n",
        "train_texts, val_texts, train_labels, val_labels = train_test_split(texts, labels, train_size=35000, test_size=10000, random_state=42, stratify=labels)\n",
        "\n",
        "# Further split the data to get the test size of 5000 samples\n",
        "_, test_texts, _, test_labels = train_test_split(test_data, test_labels, test_size=5000, random_state=42, stratify=test_labels)"
      ],
      "metadata": {
        "id": "1o9OwQib19mx"
      },
      "execution_count": null,
      "outputs": []
    },
    {
      "cell_type": "markdown",
      "source": [
        "Verifying the sizes of training, validation and test datasets\n",
        "\n"
      ],
      "metadata": {
        "id": "DmJyEplj2CEI"
      }
    },
    {
      "cell_type": "code",
      "source": [
        "train_texts.shape\n"
      ],
      "metadata": {
        "colab": {
          "base_uri": "https://localhost:8080/"
        },
        "id": "9DV3KsdK2CrN",
        "outputId": "8a8e8e98-ed18-424b-e17f-c76ae3fab884"
      },
      "execution_count": null,
      "outputs": [
        {
          "output_type": "execute_result",
          "data": {
            "text/plain": [
              "(35000, 150)"
            ]
          },
          "metadata": {},
          "execution_count": 39
        }
      ]
    },
    {
      "cell_type": "code",
      "source": [
        "val_texts.shape\n"
      ],
      "metadata": {
        "colab": {
          "base_uri": "https://localhost:8080/"
        },
        "id": "bPTP0qvq2Fya",
        "outputId": "d73f4769-132b-48ae-dc80-e67430a5ec58"
      },
      "execution_count": null,
      "outputs": [
        {
          "output_type": "execute_result",
          "data": {
            "text/plain": [
              "(10000, 150)"
            ]
          },
          "metadata": {},
          "execution_count": 40
        }
      ]
    },
    {
      "cell_type": "code",
      "source": [
        "test_texts.shape\n"
      ],
      "metadata": {
        "colab": {
          "base_uri": "https://localhost:8080/"
        },
        "id": "r9ODcn_Z2Hnh",
        "outputId": "bb53213a-a7d0-4555-84ae-81ec374d43f1"
      },
      "execution_count": null,
      "outputs": [
        {
          "output_type": "execute_result",
          "data": {
            "text/plain": [
              "(5000, 150)"
            ]
          },
          "metadata": {},
          "execution_count": 41
        }
      ]
    },
    {
      "cell_type": "markdown",
      "source": [
        "Building the Network\n",
        "\n",
        "Everything is same like the previous model, just we changed the embedding vector size to 14 from 12.\n"
      ],
      "metadata": {
        "id": "LS4kptnN2LGc"
      }
    },
    {
      "cell_type": "code",
      "source": [
        "# Setting the Sequential Layer for Model Building\n",
        "model = Sequential()\n",
        "\n",
        "# Adding the Embedding Layer with limiting to consider only the top 10,000 Words\n",
        "maxlen = 150\n",
        "model.add(Embedding(10000, 14, input_length=maxlen))\n",
        "\n",
        "model.add(Conv1D(512, 3, activation='relu'))\n",
        "model.add(Dropout(0.5))\n",
        "model.add(MaxPooling1D(2))\n",
        "\n",
        "model.add(Conv1D(256, 3, activation='relu'))\n",
        "model.add(Dropout(0.5))\n",
        "model.add(MaxPooling1D(2))\n",
        "\n",
        "model.add(Conv1D(256, 3, activation='relu'))\n",
        "model.add(Dropout(0.5))\n",
        "model.add(MaxPooling1D(2))\n",
        "\n",
        "model.add(Conv1D(128, 3, activation='relu'))\n",
        "model.add(Dropout(0.5))\n",
        "model.add(MaxPooling1D(2))\n",
        "\n",
        "model.add(GlobalMaxPooling1D())\n",
        "\n",
        "model.add(Dense(512, activation='relu'))\n",
        "model.add(Dropout(0.5))\n",
        "model.add(Dense(512, activation='relu'))\n",
        "model.add(Dropout(0.5))\n",
        "model.add(Dense(1, activation='sigmoid'))\n",
        "\n",
        "\n",
        "# Compiling the Model\n",
        "adam = keras.optimizers.Adam(learning_rate = 0.0002)\n",
        "model.compile(optimizer=adam, loss='binary_crossentropy', metrics=['accuracy'])"
      ],
      "metadata": {
        "id": "vbTLWZHa2609"
      },
      "execution_count": null,
      "outputs": []
    },
    {
      "cell_type": "markdown",
      "source": [
        "Summary"
      ],
      "metadata": {
        "id": "cQ-lv4vN3dvU"
      }
    },
    {
      "cell_type": "code",
      "source": [
        "model.summary()"
      ],
      "metadata": {
        "colab": {
          "base_uri": "https://localhost:8080/"
        },
        "id": "h_1ZiuR23enu",
        "outputId": "993d0e01-2032-4d78-8209-108291df2e8f"
      },
      "execution_count": null,
      "outputs": [
        {
          "output_type": "stream",
          "name": "stdout",
          "text": [
            "Model: \"sequential_5\"\n",
            "_________________________________________________________________\n",
            " Layer (type)                Output Shape              Param #   \n",
            "=================================================================\n",
            " embedding_5 (Embedding)     (None, 150, 14)           140000    \n",
            "                                                                 \n",
            " conv1d_11 (Conv1D)          (None, 148, 512)          22016     \n",
            "                                                                 \n",
            " dropout_13 (Dropout)        (None, 148, 512)          0         \n",
            "                                                                 \n",
            " max_pooling1d_11 (MaxPoolin  (None, 74, 512)          0         \n",
            " g1D)                                                            \n",
            "                                                                 \n",
            " conv1d_12 (Conv1D)          (None, 72, 256)           393472    \n",
            "                                                                 \n",
            " dropout_14 (Dropout)        (None, 72, 256)           0         \n",
            "                                                                 \n",
            " max_pooling1d_12 (MaxPoolin  (None, 36, 256)          0         \n",
            " g1D)                                                            \n",
            "                                                                 \n",
            " conv1d_13 (Conv1D)          (None, 34, 256)           196864    \n",
            "                                                                 \n",
            " dropout_15 (Dropout)        (None, 34, 256)           0         \n",
            "                                                                 \n",
            " max_pooling1d_13 (MaxPoolin  (None, 17, 256)          0         \n",
            " g1D)                                                            \n",
            "                                                                 \n",
            " conv1d_14 (Conv1D)          (None, 15, 128)           98432     \n",
            "                                                                 \n",
            " dropout_16 (Dropout)        (None, 15, 128)           0         \n",
            "                                                                 \n",
            " max_pooling1d_14 (MaxPoolin  (None, 7, 128)           0         \n",
            " g1D)                                                            \n",
            "                                                                 \n",
            " global_max_pooling1d_3 (Glo  (None, 128)              0         \n",
            " balMaxPooling1D)                                                \n",
            "                                                                 \n",
            " dense_10 (Dense)            (None, 512)               66048     \n",
            "                                                                 \n",
            " dropout_17 (Dropout)        (None, 512)               0         \n",
            "                                                                 \n",
            " dense_11 (Dense)            (None, 512)               262656    \n",
            "                                                                 \n",
            " dropout_18 (Dropout)        (None, 512)               0         \n",
            "                                                                 \n",
            " dense_12 (Dense)            (None, 1)                 513       \n",
            "                                                                 \n",
            "=================================================================\n",
            "Total params: 1,180,001\n",
            "Trainable params: 1,180,001\n",
            "Non-trainable params: 0\n",
            "_________________________________________________________________\n"
          ]
        }
      ]
    },
    {
      "cell_type": "markdown",
      "source": [
        "Running the model"
      ],
      "metadata": {
        "id": "rciPRQvm3kQP"
      }
    },
    {
      "cell_type": "code",
      "source": [
        "# Setting Callbacks\n",
        "callbacks = ModelCheckpoint(\n",
        "            filepath= \"model5.keras\",\n",
        "            save_best_only= True,\n",
        "            monitor= \"val_loss\"\n",
        "            )\n",
        "\n",
        "\n",
        "# Model Fit - Running the Model\n",
        "Model_5 = model.fit(train_texts, train_labels,\n",
        "                    epochs=50,\n",
        "                    batch_size=64,\n",
        "                    validation_data=(val_texts, val_labels), \n",
        "                    callbacks=callbacks)"
      ],
      "metadata": {
        "colab": {
          "base_uri": "https://localhost:8080/"
        },
        "id": "izN_DkRy3j_1",
        "outputId": "b2280b64-6ea3-425a-d066-d320d0e58baa"
      },
      "execution_count": null,
      "outputs": [
        {
          "output_type": "stream",
          "name": "stdout",
          "text": [
            "Epoch 1/50\n",
            "547/547 [==============================] - 63s 110ms/step - loss: 0.6872 - accuracy: 0.5229 - val_loss: 0.6474 - val_accuracy: 0.5938\n",
            "Epoch 2/50\n",
            "547/547 [==============================] - 18s 33ms/step - loss: 0.4001 - accuracy: 0.8206 - val_loss: 0.5005 - val_accuracy: 0.8499\n",
            "Epoch 3/50\n",
            "547/547 [==============================] - 14s 25ms/step - loss: 0.2965 - accuracy: 0.8765 - val_loss: 0.4443 - val_accuracy: 0.8540\n",
            "Epoch 4/50\n",
            "547/547 [==============================] - 11s 20ms/step - loss: 0.2567 - accuracy: 0.8946 - val_loss: 0.4326 - val_accuracy: 0.8564\n",
            "Epoch 5/50\n",
            "547/547 [==============================] - 11s 21ms/step - loss: 0.2262 - accuracy: 0.9109 - val_loss: 0.4051 - val_accuracy: 0.8421\n",
            "Epoch 6/50\n",
            "547/547 [==============================] - 11s 19ms/step - loss: 0.2050 - accuracy: 0.9194 - val_loss: 0.4106 - val_accuracy: 0.8338\n",
            "Epoch 7/50\n",
            "547/547 [==============================] - 10s 19ms/step - loss: 0.1797 - accuracy: 0.9316 - val_loss: 0.3842 - val_accuracy: 0.8442\n",
            "Epoch 8/50\n",
            "547/547 [==============================] - 9s 16ms/step - loss: 0.1594 - accuracy: 0.9409 - val_loss: 0.3863 - val_accuracy: 0.8336\n",
            "Epoch 9/50\n",
            "547/547 [==============================] - 9s 16ms/step - loss: 0.1446 - accuracy: 0.9467 - val_loss: 0.3751 - val_accuracy: 0.8417\n",
            "Epoch 10/50\n",
            "547/547 [==============================] - 10s 18ms/step - loss: 0.1205 - accuracy: 0.9578 - val_loss: 0.3810 - val_accuracy: 0.8373\n",
            "Epoch 11/50\n",
            "547/547 [==============================] - 9s 17ms/step - loss: 0.1015 - accuracy: 0.9649 - val_loss: 0.3777 - val_accuracy: 0.8378\n",
            "Epoch 12/50\n",
            "547/547 [==============================] - 10s 18ms/step - loss: 0.0934 - accuracy: 0.9687 - val_loss: 0.3907 - val_accuracy: 0.8367\n",
            "Epoch 13/50\n",
            "547/547 [==============================] - 9s 16ms/step - loss: 0.0812 - accuracy: 0.9730 - val_loss: 0.4000 - val_accuracy: 0.8323\n",
            "Epoch 14/50\n",
            "547/547 [==============================] - 9s 17ms/step - loss: 0.0698 - accuracy: 0.9761 - val_loss: 0.4247 - val_accuracy: 0.8291\n",
            "Epoch 15/50\n",
            "547/547 [==============================] - 9s 17ms/step - loss: 0.0626 - accuracy: 0.9786 - val_loss: 0.4348 - val_accuracy: 0.8329\n",
            "Epoch 16/50\n",
            "547/547 [==============================] - 9s 16ms/step - loss: 0.0533 - accuracy: 0.9831 - val_loss: 0.4619 - val_accuracy: 0.8237\n",
            "Epoch 17/50\n",
            "547/547 [==============================] - 10s 18ms/step - loss: 0.0480 - accuracy: 0.9840 - val_loss: 0.4538 - val_accuracy: 0.8264\n",
            "Epoch 18/50\n",
            "547/547 [==============================] - 9s 17ms/step - loss: 0.0435 - accuracy: 0.9859 - val_loss: 0.4792 - val_accuracy: 0.8196\n",
            "Epoch 19/50\n",
            "547/547 [==============================] - 8s 15ms/step - loss: 0.0371 - accuracy: 0.9879 - val_loss: 0.5078 - val_accuracy: 0.8196\n",
            "Epoch 20/50\n",
            "547/547 [==============================] - 9s 17ms/step - loss: 0.0357 - accuracy: 0.9874 - val_loss: 0.5018 - val_accuracy: 0.8237\n",
            "Epoch 21/50\n",
            "547/547 [==============================] - 9s 17ms/step - loss: 0.0298 - accuracy: 0.9901 - val_loss: 0.5006 - val_accuracy: 0.8278\n",
            "Epoch 22/50\n",
            "547/547 [==============================] - 9s 16ms/step - loss: 0.0262 - accuracy: 0.9917 - val_loss: 0.5931 - val_accuracy: 0.8149\n",
            "Epoch 23/50\n",
            "547/547 [==============================] - 9s 16ms/step - loss: 0.0262 - accuracy: 0.9914 - val_loss: 0.6501 - val_accuracy: 0.8174\n",
            "Epoch 24/50\n",
            "547/547 [==============================] - 8s 15ms/step - loss: 0.0258 - accuracy: 0.9909 - val_loss: 0.6286 - val_accuracy: 0.8185\n",
            "Epoch 25/50\n",
            "547/547 [==============================] - 8s 15ms/step - loss: 0.0235 - accuracy: 0.9921 - val_loss: 0.5854 - val_accuracy: 0.8221\n",
            "Epoch 26/50\n",
            "547/547 [==============================] - 8s 16ms/step - loss: 0.0234 - accuracy: 0.9921 - val_loss: 0.6010 - val_accuracy: 0.8256\n",
            "Epoch 27/50\n",
            "547/547 [==============================] - 9s 16ms/step - loss: 0.0206 - accuracy: 0.9930 - val_loss: 0.6668 - val_accuracy: 0.8183\n",
            "Epoch 28/50\n",
            "547/547 [==============================] - 9s 17ms/step - loss: 0.0208 - accuracy: 0.9929 - val_loss: 0.5738 - val_accuracy: 0.8189\n",
            "Epoch 29/50\n",
            "547/547 [==============================] - 11s 19ms/step - loss: 0.0171 - accuracy: 0.9941 - val_loss: 0.6503 - val_accuracy: 0.8270\n",
            "Epoch 30/50\n",
            "547/547 [==============================] - 10s 18ms/step - loss: 0.0150 - accuracy: 0.9956 - val_loss: 0.6931 - val_accuracy: 0.8200\n",
            "Epoch 31/50\n",
            "547/547 [==============================] - 9s 16ms/step - loss: 0.0175 - accuracy: 0.9946 - val_loss: 0.6933 - val_accuracy: 0.8255\n",
            "Epoch 32/50\n",
            "547/547 [==============================] - 9s 16ms/step - loss: 0.0182 - accuracy: 0.9938 - val_loss: 0.6920 - val_accuracy: 0.8100\n",
            "Epoch 33/50\n",
            "547/547 [==============================] - 9s 17ms/step - loss: 0.0146 - accuracy: 0.9952 - val_loss: 0.7071 - val_accuracy: 0.8203\n",
            "Epoch 34/50\n",
            "547/547 [==============================] - 9s 17ms/step - loss: 0.0127 - accuracy: 0.9961 - val_loss: 0.7276 - val_accuracy: 0.8210\n",
            "Epoch 35/50\n",
            "547/547 [==============================] - 9s 16ms/step - loss: 0.0137 - accuracy: 0.9952 - val_loss: 0.7163 - val_accuracy: 0.8052\n",
            "Epoch 36/50\n",
            "547/547 [==============================] - 10s 18ms/step - loss: 0.0163 - accuracy: 0.9942 - val_loss: 0.6286 - val_accuracy: 0.8221\n",
            "Epoch 37/50\n",
            "547/547 [==============================] - 8s 15ms/step - loss: 0.0117 - accuracy: 0.9958 - val_loss: 0.7443 - val_accuracy: 0.8169\n",
            "Epoch 38/50\n",
            "547/547 [==============================] - 9s 16ms/step - loss: 0.0134 - accuracy: 0.9952 - val_loss: 0.8084 - val_accuracy: 0.8187\n",
            "Epoch 39/50\n",
            "547/547 [==============================] - 9s 16ms/step - loss: 0.0103 - accuracy: 0.9964 - val_loss: 0.8476 - val_accuracy: 0.8165\n",
            "Epoch 40/50\n",
            "547/547 [==============================] - 10s 19ms/step - loss: 0.0083 - accuracy: 0.9972 - val_loss: 1.1294 - val_accuracy: 0.8114\n",
            "Epoch 41/50\n",
            "547/547 [==============================] - 9s 16ms/step - loss: 0.0144 - accuracy: 0.9952 - val_loss: 0.7462 - val_accuracy: 0.8218\n",
            "Epoch 42/50\n",
            "547/547 [==============================] - 9s 16ms/step - loss: 0.0112 - accuracy: 0.9962 - val_loss: 0.7219 - val_accuracy: 0.8186\n",
            "Epoch 43/50\n",
            "547/547 [==============================] - 9s 16ms/step - loss: 0.0095 - accuracy: 0.9969 - val_loss: 0.8952 - val_accuracy: 0.8214\n",
            "Epoch 44/50\n",
            "547/547 [==============================] - 9s 16ms/step - loss: 0.0097 - accuracy: 0.9965 - val_loss: 0.8243 - val_accuracy: 0.8194\n",
            "Epoch 45/50\n",
            "547/547 [==============================] - 12s 22ms/step - loss: 0.0096 - accuracy: 0.9969 - val_loss: 1.0175 - val_accuracy: 0.8177\n",
            "Epoch 46/50\n",
            "547/547 [==============================] - 9s 16ms/step - loss: 0.0110 - accuracy: 0.9966 - val_loss: 0.9000 - val_accuracy: 0.8182\n",
            "Epoch 47/50\n",
            "547/547 [==============================] - 8s 15ms/step - loss: 0.0075 - accuracy: 0.9972 - val_loss: 1.0843 - val_accuracy: 0.8222\n",
            "Epoch 48/50\n",
            "547/547 [==============================] - 12s 21ms/step - loss: 0.0094 - accuracy: 0.9968 - val_loss: 0.9247 - val_accuracy: 0.8219\n",
            "Epoch 49/50\n",
            "547/547 [==============================] - 10s 19ms/step - loss: 0.0075 - accuracy: 0.9975 - val_loss: 1.0386 - val_accuracy: 0.8246\n",
            "Epoch 50/50\n",
            "547/547 [==============================] - 9s 17ms/step - loss: 0.0100 - accuracy: 0.9966 - val_loss: 1.1661 - val_accuracy: 0.8189\n"
          ]
        }
      ]
    },
    {
      "cell_type": "markdown",
      "source": [
        "Visualizing the Training and Validation Loss/Accuracy\n",
        "\n"
      ],
      "metadata": {
        "id": "2E7woEqS3xrS"
      }
    },
    {
      "cell_type": "code",
      "source": [
        "\n",
        "accuracy = Model_5.history['accuracy']\n",
        "val_accuracy = Model_5.history['val_accuracy']\n",
        "\n",
        "loss = Model_5.history[\"loss\"]\n",
        "val_loss = Model_5.history[\"val_loss\"]\n",
        "\n",
        "epochs = range(1, len(loss) + 1)\n",
        "\n",
        "plt.figure(figsize=(6,4))\n",
        "plt.plot(epochs, accuracy, color=\"grey\", label=\"Training Accuracy\")\n",
        "plt.plot(epochs, val_accuracy, color=\"blue\", label=\"Validation Accuracy\")\n",
        "plt.title(\"Training and Validation Accuracy\")\n",
        "plt.legend()\n",
        "\n",
        "\n",
        "plt.figure(figsize=(6,4))\n",
        "plt.plot(epochs, loss, color=\"grey\", label=\"Training Loss\")\n",
        "plt.plot(epochs, val_loss, color=\"blue\", label=\"Validation Loss\")\n",
        "plt.title(\"Training and Validation Loss\")\n",
        "plt.legend()\n",
        "plt.show()"
      ],
      "metadata": {
        "colab": {
          "base_uri": "https://localhost:8080/",
          "height": 765
        },
        "id": "1SjGyhfU3yTR",
        "outputId": "b9712542-ac99-407a-ab74-a81c53ac2d5f"
      },
      "execution_count": null,
      "outputs": [
        {
          "output_type": "display_data",
          "data": {
            "text/plain": [
              "<Figure size 600x400 with 1 Axes>"
            ],
            "image/png": "[encoded data removed]"
          },
          "metadata": {}
        },
        {
          "output_type": "display_data",
          "data": {
            "text/plain": [
              "<Figure size 600x400 with 1 Axes>"
            ],
            "image/png": "[encoded data removed]"
          },
          "metadata": {}
        }
      ]
    },
    {
      "cell_type": "markdown",
      "source": [
        "Evaluating the Model on Test Set\n",
        "\n"
      ],
      "metadata": {
        "id": "S0-zfEOk32yJ"
      }
    },
    {
      "cell_type": "code",
      "source": [
        "test_model = load_model('model5.keras')\n",
        "Model5_Results = test_model.evaluate(test_texts,test_labels)\n",
        "print(f'Loss: {Model5_Results[0]:.3f}')\n",
        "print(f'Accuracy: {Model5_Results[1]:.3f}')"
      ],
      "metadata": {
        "colab": {
          "base_uri": "https://localhost:8080/"
        },
        "id": "ykV-N3c3347L",
        "outputId": "ce9f65d6-f2aa-4ca8-81a7-80c32ac7113f"
      },
      "execution_count": null,
      "outputs": [
        {
          "output_type": "stream",
          "name": "stdout",
          "text": [
            "157/157 [==============================] - 1s 5ms/step - loss: 0.2683 - accuracy: 0.9246\n",
            "Loss: 0.268\n",
            "Accuracy: 0.925\n"
          ]
        }
      ]
    },
    {
      "cell_type": "markdown",
      "source": [
        "By simply adjusting the embedding vector dimension from 12 to 14 and increasing the training samples to over 10,000, we were able to improve the accuracy of our model. In fact, Model 5, which utilized these changes, proved to be the best with the highest accuracy of 92.5%.\n",
        "\n",
        "It's important to note that the embedding vector dimension is just one of many key hyperparameters that can be adjusted to optimize the network. Other parameters include the learning rate, dropout rate, and the number of input conv1d and dense layers. However, it's crucial to find the right balance when setting these hyperparameters to prevent overfitting or underfitting.\n",
        "\n",
        "We developed four different models for the embedding part, namely Model 2, Model 3, Model 4, and Model 5. Model 1 was considered the base model and was not included in our evaluation of the best performing model."
      ],
      "metadata": {
        "id": "e9Dni4eP49G5"
      }
    },
    {
      "cell_type": "markdown",
      "source": [
        "*Evaluating the Best Model - Embedding Base Models*"
      ],
      "metadata": {
        "id": "49grmkK95WhN"
      }
    },
    {
      "cell_type": "code",
      "source": [
        "\n",
        "Models = ['Mod 2', 'Mod 3', 'Mod 4', 'Mod5']\n",
        "Loss = [0.693,0.524,0.290,0.257]\n",
        "Accuracy = [0.517,0.744,0.908,0.926]\n"
      ],
      "metadata": {
        "id": "OgNSjbnB5UJn"
      },
      "execution_count": null,
      "outputs": []
    },
    {
      "cell_type": "code",
      "source": [
        "# Loss Evaluation\n",
        "sns.scatterplot(x=Models, y=Loss,color='red')\n",
        "plt.xlabel(\"Models\",fontdict={\"size\":10,\"weight\":'bold'})\n",
        "plt.ylabel(\"Loss\",fontdict={\"size\":10,\"weight\":'bold'})\n",
        "plt.title(\"Loss Evaluation\",loc='left',fontdict={\"size\":12,\"weight\":'bold'})\n",
        "plt.show()\n",
        "\n",
        "# Accuracy Evaluation\n",
        "sns.scatterplot(x=Models, y=Accuracy,color='blue')\n",
        "plt.xlabel(\"Models\",fontdict={\"size\":10,\"weight\":'bold'})\n",
        "plt.ylabel(\"Accuracy\",fontdict={\"size\":10,\"weight\":'bold'})\n",
        "plt.title(\"Accuracy Evaluation\",loc='left',fontdict={\"size\":12,\"weight\":'bold'})\n",
        "plt.show()\n",
        "     "
      ],
      "metadata": {
        "colab": {
          "base_uri": "https://localhost:8080/",
          "height": 927
        },
        "id": "aaFzpdC15gN4",
        "outputId": "6e69825d-3c7f-47a4-86bd-08277fd555f5"
      },
      "execution_count": null,
      "outputs": [
        {
          "output_type": "display_data",
          "data": {
            "text/plain": [
              "<Figure size 640x480 with 1 Axes>"
            ],
            "image/png": "[encoded data removed]"
          },
          "metadata": {}
        },
        {
          "output_type": "display_data",
          "data": {
            "text/plain": [
              "<Figure size 640x480 with 1 Axes>"
            ],
            "image/png": "[encoded data removed]"
          },
          "metadata": {}
        }
      ]
    },
    {
      "cell_type": "markdown",
      "source": [
        "*We can clearly observe that Model 5 is the best model among the base embedding models with highest accuracy of around 92.6%.*\n",
        "\n",
        "*This accuracy was obtained when the training sample was set to 35000, validation to 10000 and test to 5000. We used Conv1D and Embedding Layer together, the network architecture can be referred by looking at the model summary.*"
      ],
      "metadata": {
        "id": "j0IU3jpH5eQs"
      }
    },
    {
      "cell_type": "markdown",
      "source": [
        "*Pre-Trained Models*\n",
        "*Pretrained Word Embedding Model GloVe*\n",
        "*PreTrained Model 1 with Training Samples of 1000*\n",
        "Loading in the IMDB .tar file to the colab environment"
      ],
      "metadata": {
        "id": "_GtMLfui5rOz"
      }
    },
    {
      "cell_type": "code",
      "source": [
        "\n",
        "!curl -O https://ai.stanford.edu/~amaas/data/sentiment/aclImdb_v1.tar.gz\n",
        "!tar -xf aclImdb_v1.tar.gz\n",
        "     "
      ],
      "metadata": {
        "colab": {
          "base_uri": "https://localhost:8080/"
        },
        "id": "gn87mkGx5vmF",
        "outputId": "7aa9f89b-63ed-4ec3-a775-82c0203c566c"
      },
      "execution_count": null,
      "outputs": [
        {
          "output_type": "stream",
          "name": "stdout",
          "text": [
            "  % Total    % Received % Xferd  Average Speed   Time    Time     Time  Current\n",
            "                                 Dload  Upload   Total   Spent    Left  Speed\n",
            "100 80.2M  100 80.2M    0     0  21.0M      0  0:00:03  0:00:03 --:--:-- 21.0M\n"
          ]
        }
      ]
    },
    {
      "cell_type": "code",
      "source": [
        "!rm -r aclImdb/train/unsup\n"
      ],
      "metadata": {
        "colab": {
          "base_uri": "https://localhost:8080/"
        },
        "id": "-xdyLYxK50br",
        "outputId": "bea0f264-887c-4c3c-dd09-ec8cb8b890a5"
      },
      "execution_count": null,
      "outputs": [
        {
          "output_type": "stream",
          "name": "stdout",
          "text": [
            "rm: cannot remove 'aclImdb/train/unsup': No such file or directory\n"
          ]
        }
      ]
    },
    {
      "cell_type": "markdown",
      "source": [
        "Creating Directories and Appending the data further from Neg and Pos Class of the Data\n",
        "\n"
      ],
      "metadata": {
        "id": "DZUdSxdQ53C3"
      }
    },
    {
      "cell_type": "code",
      "source": [
        "imdb_dir = '/content/aclImdb'\n",
        "train_dir = os.path.join(imdb_dir, 'train')\n",
        "\n",
        "labels = []\n",
        "texts = []\n",
        "\n",
        "for label_type in ['neg', 'pos']:\n",
        "    dir_name = os.path.join(train_dir, label_type)\n",
        "    for fname in os.listdir(dir_name):\n",
        "        if fname[-4:] == '.txt':\n",
        "            f = open(os.path.join(dir_name, fname))\n",
        "            texts.append(f.read())\n",
        "            f.close()\n",
        "            if label_type == 'neg':\n",
        "                labels.append(0)\n",
        "            else:\n",
        "                labels.append(1)"
      ],
      "metadata": {
        "id": "bUe_p3Be559H"
      },
      "execution_count": null,
      "outputs": []
    },
    {
      "cell_type": "markdown",
      "source": [
        "Looking at the total samples in the train class\n",
        "\n"
      ],
      "metadata": {
        "id": "oDNl2IG76Dwi"
      }
    },
    {
      "cell_type": "code",
      "source": [
        "print('No. of Samples', len(texts))\n"
      ],
      "metadata": {
        "colab": {
          "base_uri": "https://localhost:8080/"
        },
        "id": "lBBtn8V96Gms",
        "outputId": "78ada66e-ef64-4021-952b-6a2342b799b5"
      },
      "execution_count": null,
      "outputs": [
        {
          "output_type": "stream",
          "name": "stdout",
          "text": [
            "No. of Samples 25000\n"
          ]
        }
      ]
    },
    {
      "cell_type": "markdown",
      "source": [
        "Preparing data for modelling and creating train and validation sets\n",
        "\n"
      ],
      "metadata": {
        "id": "j57NnG_P6JVM"
      }
    },
    {
      "cell_type": "code",
      "source": [
        "\n",
        "maxlen = 150  # cutting off reviews after 150 words\n",
        "training_samples = 100  # training on 100 samples\n",
        "validation_samples = 10000  # validating on 10000 samples\n",
        "max_words = 10000  # considering the top 10,000 words in the dataset\n",
        "\n",
        "tokenizer = Tokenizer(num_words=max_words)\n",
        "tokenizer.fit_on_texts(texts)\n",
        "sequences = tokenizer.texts_to_sequences(texts)\n",
        "\n",
        "word_index = tokenizer.word_index\n",
        "print('Found %s unique tokens.' % len(word_index))\n",
        "\n",
        "data = pad_sequences(sequences, maxlen=maxlen)\n",
        "\n",
        "labels = np.asarray(labels)\n",
        "print('Shape of data tensor:', data.shape)\n",
        "print('Shape of label tensor:', labels.shape)\n",
        "\n",
        "# Splitting the data into a training set and a validation set\n",
        "indices = np.arange(data.shape[0])\n",
        "np.random.shuffle(indices)\n",
        "data = data[indices]\n",
        "labels = labels[indices]\n",
        "\n",
        "x_train = data[:training_samples]\n",
        "y_train = labels[:training_samples]\n",
        "x_val = data[training_samples: training_samples + validation_samples]\n",
        "y_val = labels[training_samples: training_samples + validation_samples]\n",
        "     "
      ],
      "metadata": {
        "colab": {
          "base_uri": "https://localhost:8080/"
        },
        "id": "-vZMAbX36S4U",
        "outputId": "7b847cd2-dfd7-4cfe-b2fb-a0529f86835c"
      },
      "execution_count": null,
      "outputs": [
        {
          "output_type": "stream",
          "name": "stdout",
          "text": [
            "Found 88582 unique tokens.\n",
            "Shape of data tensor: (25000, 150)\n",
            "Shape of label tensor: (25000,)\n"
          ]
        }
      ]
    },
    {
      "cell_type": "markdown",
      "source": [
        "Verifying the size of the train and validation samples\n",
        "\n"
      ],
      "metadata": {
        "id": "UJTSy1Za6a_m"
      }
    },
    {
      "cell_type": "code",
      "source": [
        "x_train.shape\n"
      ],
      "metadata": {
        "colab": {
          "base_uri": "https://localhost:8080/"
        },
        "id": "5bykRwYt6d1O",
        "outputId": "f29d610f-502b-49d1-f765-1fd1c8e68e2f"
      },
      "execution_count": null,
      "outputs": [
        {
          "output_type": "execute_result",
          "data": {
            "text/plain": [
              "(100, 150)"
            ]
          },
          "metadata": {},
          "execution_count": 56
        }
      ]
    },
    {
      "cell_type": "code",
      "source": [
        "x_val.shape\n"
      ],
      "metadata": {
        "colab": {
          "base_uri": "https://localhost:8080/"
        },
        "id": "34o0dmBF6gy7",
        "outputId": "ee138d2a-fe64-42c6-be2c-8e49a0b72092"
      },
      "execution_count": null,
      "outputs": [
        {
          "output_type": "execute_result",
          "data": {
            "text/plain": [
              "(10000, 150)"
            ]
          },
          "metadata": {},
          "execution_count": 57
        }
      ]
    },
    {
      "cell_type": "markdown",
      "source": [
        "Mounting google drive so as to acess the glove.txt file"
      ],
      "metadata": {
        "id": "aXmAT8iS6kTN"
      }
    },
    {
      "cell_type": "code",
      "source": [
        "from google.colab import drive\n",
        "\n",
        "drive.mount('/content/gdrive')"
      ],
      "metadata": {
        "colab": {
          "base_uri": "https://localhost:8080/"
        },
        "id": "Vx4cGeUg6h1Z",
        "outputId": "5ae3975b-dc5f-4cbe-edc0-e5d458a2aeac"
      },
      "execution_count": null,
      "outputs": [
        {
          "output_type": "stream",
          "name": "stdout",
          "text": [
            "Mounted at /content/gdrive\n"
          ]
        }
      ]
    },
    {
      "cell_type": "code",
      "source": [
        "glove_dir = '/content/gdrive/MyDrive/Glove'\n",
        "\n",
        "embeddings_index = {}\n",
        "f = open(os.path.join(glove_dir, 'glove.6B.100d.txt'))\n",
        "for line in f:\n",
        "    values = line.split()\n",
        "    word = values[0]\n",
        "    coefs = np.asarray(values[1:], dtype='float32')\n",
        "    embeddings_index[word] = coefs\n",
        "f.close()\n",
        "\n",
        "print('Found %s word vectors.' % len(embeddings_index))"
      ],
      "metadata": {
        "colab": {
          "base_uri": "https://localhost:8080/"
        },
        "id": "Wj33dDcZ6yN-",
        "outputId": "42720094-2026-441f-93b1-df70e426a590"
      },
      "execution_count": null,
      "outputs": [
        {
          "output_type": "stream",
          "name": "stdout",
          "text": [
            "Found 400000 word vectors.\n"
          ]
        }
      ]
    },
    {
      "cell_type": "markdown",
      "source": [
        "Creating a embedding matrix\n",
        "\n"
      ],
      "metadata": {
        "id": "7ZEJ9gf8G_-J"
      }
    },
    {
      "cell_type": "code",
      "source": [
        "embedding_dim = 100\n",
        "\n",
        "embedding_matrix = np.zeros((max_words, embedding_dim))\n",
        "for word, i in word_index.items():\n",
        "    embedding_vector = embeddings_index.get(word)\n",
        "    if i < max_words:\n",
        "        if embedding_vector is not None:\n",
        "            # Words not found in embedding index will be all-zeros.\n",
        "            embedding_matrix[i] = embedding_vector\n",
        "     "
      ],
      "metadata": {
        "id": "4Om_CWnQHBAl"
      },
      "execution_count": null,
      "outputs": []
    },
    {
      "cell_type": "markdown",
      "source": [
        "Building the Network\n",
        "\n"
      ],
      "metadata": {
        "id": "qkGkqEvBI0jJ"
      }
    },
    {
      "cell_type": "code",
      "source": [
        "model = Sequential()\n",
        "model.add(Embedding(max_words, embedding_dim, input_length=maxlen))\n",
        "model.add(LSTM(32))\n",
        "model.add(Dense(1, activation='sigmoid'))\n",
        "\n",
        "model.layers[0].set_weights([embedding_matrix])\n",
        "model.layers[0].trainable = False\n",
        "\n",
        "# Compiling the Model\n",
        "adam = keras.optimizers.Adam(learning_rate = 0.0001)\n",
        "model.compile(optimizer=adam, loss='binary_crossentropy', metrics=['accuracy'])"
      ],
      "metadata": {
        "id": "ARrTro23I1TU"
      },
      "execution_count": null,
      "outputs": []
    },
    {
      "cell_type": "markdown",
      "source": [
        "Summary"
      ],
      "metadata": {
        "id": "ff1hTsHcI8Ga"
      }
    },
    {
      "cell_type": "code",
      "source": [
        "model.summary()"
      ],
      "metadata": {
        "colab": {
          "base_uri": "https://localhost:8080/"
        },
        "id": "TxjRDIf8I9eC",
        "outputId": "724c6375-5da9-49e2-da1b-e9dd4edb2767"
      },
      "execution_count": null,
      "outputs": [
        {
          "output_type": "stream",
          "name": "stdout",
          "text": [
            "Model: \"sequential_6\"\n",
            "_________________________________________________________________\n",
            " Layer (type)                Output Shape              Param #   \n",
            "=================================================================\n",
            " embedding_6 (Embedding)     (None, 150, 100)          1000000   \n",
            "                                                                 \n",
            " lstm (LSTM)                 (None, 32)                17024     \n",
            "                                                                 \n",
            " dense_13 (Dense)            (None, 1)                 33        \n",
            "                                                                 \n",
            "=================================================================\n",
            "Total params: 1,017,057\n",
            "Trainable params: 17,057\n",
            "Non-trainable params: 1,000,000\n",
            "_________________________________________________________________\n"
          ]
        }
      ]
    },
    {
      "cell_type": "markdown",
      "source": [
        "Running the model"
      ],
      "metadata": {
        "id": "EWcLeEyVJHrg"
      }
    },
    {
      "cell_type": "code",
      "source": [
        "# Setting Callbacks\n",
        "callbacks=callbacks = ModelCheckpoint(\n",
        "            filepath= \"premodel1.keras\",\n",
        "            save_best_only= True,\n",
        "            monitor= \"val_loss\"\n",
        "            )\n",
        "\n",
        "# Model Fit\n",
        "Pre_Model_1 =  model.fit(x_train, y_train, \n",
        "                     epochs=30, \n",
        "                     batch_size=32, \n",
        "                     validation_data=(x_val, y_val),\n",
        "                     callbacks=callbacks)"
      ],
      "metadata": {
        "colab": {
          "base_uri": "https://localhost:8080/"
        },
        "id": "RgaX_msBJJ5h",
        "outputId": "ef4bb8bf-51d7-4ca1-fcbc-ab83f6d1f9c3"
      },
      "execution_count": null,
      "outputs": [
        {
          "output_type": "stream",
          "name": "stdout",
          "text": [
            "Epoch 1/30\n",
            "4/4 [==============================] - 6s 588ms/step - loss: 0.7369 - accuracy: 0.5800 - val_loss: 0.8193 - val_accuracy: 0.5000\n",
            "Epoch 2/30\n",
            "4/4 [==============================] - 3s 883ms/step - loss: 0.7258 - accuracy: 0.5800 - val_loss: 0.8061 - val_accuracy: 0.5000\n",
            "Epoch 3/30\n",
            "4/4 [==============================] - 1s 454ms/step - loss: 0.7194 - accuracy: 0.5800 - val_loss: 0.7939 - val_accuracy: 0.4998\n",
            "Epoch 4/30\n",
            "4/4 [==============================] - 1s 444ms/step - loss: 0.7111 - accuracy: 0.5800 - val_loss: 0.7838 - val_accuracy: 0.4998\n",
            "Epoch 5/30\n",
            "4/4 [==============================] - 1s 375ms/step - loss: 0.7054 - accuracy: 0.5800 - val_loss: 0.7745 - val_accuracy: 0.4996\n",
            "Epoch 6/30\n",
            "4/4 [==============================] - 1s 446ms/step - loss: 0.7002 - accuracy: 0.5800 - val_loss: 0.7679 - val_accuracy: 0.4992\n",
            "Epoch 7/30\n",
            "4/4 [==============================] - 1s 444ms/step - loss: 0.6971 - accuracy: 0.5800 - val_loss: 0.7632 - val_accuracy: 0.4995\n",
            "Epoch 8/30\n",
            "4/4 [==============================] - 1s 445ms/step - loss: 0.6940 - accuracy: 0.5800 - val_loss: 0.7590 - val_accuracy: 0.4989\n",
            "Epoch 9/30\n",
            "4/4 [==============================] - 1s 463ms/step - loss: 0.6913 - accuracy: 0.5800 - val_loss: 0.7565 - val_accuracy: 0.4988\n",
            "Epoch 10/30\n",
            "4/4 [==============================] - 2s 753ms/step - loss: 0.6893 - accuracy: 0.5800 - val_loss: 0.7539 - val_accuracy: 0.4992\n",
            "Epoch 11/30\n",
            "4/4 [==============================] - 3s 884ms/step - loss: 0.6877 - accuracy: 0.5800 - val_loss: 0.7500 - val_accuracy: 0.4992\n",
            "Epoch 12/30\n",
            "4/4 [==============================] - 1s 450ms/step - loss: 0.6856 - accuracy: 0.5800 - val_loss: 0.7464 - val_accuracy: 0.4981\n",
            "Epoch 13/30\n",
            "4/4 [==============================] - 1s 390ms/step - loss: 0.6834 - accuracy: 0.5800 - val_loss: 0.7438 - val_accuracy: 0.4979\n",
            "Epoch 14/30\n",
            "4/4 [==============================] - 1s 445ms/step - loss: 0.6817 - accuracy: 0.5800 - val_loss: 0.7428 - val_accuracy: 0.4978\n",
            "Epoch 15/30\n",
            "4/4 [==============================] - 1s 390ms/step - loss: 0.6805 - accuracy: 0.5800 - val_loss: 0.7416 - val_accuracy: 0.4978\n",
            "Epoch 16/30\n",
            "4/4 [==============================] - 1s 444ms/step - loss: 0.6790 - accuracy: 0.5800 - val_loss: 0.7401 - val_accuracy: 0.4978\n",
            "Epoch 17/30\n",
            "4/4 [==============================] - 1s 445ms/step - loss: 0.6776 - accuracy: 0.5800 - val_loss: 0.7396 - val_accuracy: 0.4979\n",
            "Epoch 18/30\n",
            "4/4 [==============================] - 1s 384ms/step - loss: 0.6764 - accuracy: 0.5800 - val_loss: 0.7392 - val_accuracy: 0.4979\n",
            "Epoch 19/30\n",
            "4/4 [==============================] - 1s 447ms/step - loss: 0.6754 - accuracy: 0.5800 - val_loss: 0.7387 - val_accuracy: 0.4985\n",
            "Epoch 20/30\n",
            "4/4 [==============================] - 2s 543ms/step - loss: 0.6741 - accuracy: 0.5800 - val_loss: 0.7369 - val_accuracy: 0.4985\n",
            "Epoch 21/30\n",
            "4/4 [==============================] - 2s 539ms/step - loss: 0.6726 - accuracy: 0.5900 - val_loss: 0.7348 - val_accuracy: 0.4984\n",
            "Epoch 22/30\n",
            "4/4 [==============================] - 1s 381ms/step - loss: 0.6710 - accuracy: 0.5700 - val_loss: 0.7321 - val_accuracy: 0.4967\n",
            "Epoch 23/30\n",
            "4/4 [==============================] - 3s 871ms/step - loss: 0.6694 - accuracy: 0.5700 - val_loss: 0.7296 - val_accuracy: 0.4962\n",
            "Epoch 24/30\n",
            "4/4 [==============================] - 2s 591ms/step - loss: 0.6679 - accuracy: 0.5800 - val_loss: 0.7278 - val_accuracy: 0.4963\n",
            "Epoch 25/30\n",
            "4/4 [==============================] - 2s 730ms/step - loss: 0.6664 - accuracy: 0.5700 - val_loss: 0.7269 - val_accuracy: 0.4955\n",
            "Epoch 26/30\n",
            "4/4 [==============================] - 1s 424ms/step - loss: 0.6654 - accuracy: 0.5700 - val_loss: 0.7259 - val_accuracy: 0.4952\n",
            "Epoch 27/30\n",
            "4/4 [==============================] - 1s 445ms/step - loss: 0.6641 - accuracy: 0.5700 - val_loss: 0.7259 - val_accuracy: 0.4956\n",
            "Epoch 28/30\n",
            "4/4 [==============================] - 2s 567ms/step - loss: 0.6630 - accuracy: 0.5700 - val_loss: 0.7254 - val_accuracy: 0.4959\n",
            "Epoch 29/30\n",
            "4/4 [==============================] - 3s 878ms/step - loss: 0.6619 - accuracy: 0.5700 - val_loss: 0.7248 - val_accuracy: 0.4962\n",
            "Epoch 30/30\n",
            "4/4 [==============================] - 1s 394ms/step - loss: 0.6609 - accuracy: 0.5700 - val_loss: 0.7243 - val_accuracy: 0.4962\n"
          ]
        }
      ]
    },
    {
      "cell_type": "markdown",
      "source": [
        "Visualizing the Training and Validation Loss/Accuracy\n",
        "\n"
      ],
      "metadata": {
        "id": "UDuC-YYPJSSG"
      }
    },
    {
      "cell_type": "code",
      "source": [
        "accuracy = Pre_Model_1.history['accuracy']\n",
        "val_accuracy = Pre_Model_1.history['val_accuracy']\n",
        "\n",
        "loss = Pre_Model_1.history[\"loss\"]\n",
        "val_loss = Pre_Model_1.history[\"val_loss\"]\n",
        "\n",
        "epochs = range(1, len(loss) + 1)\n",
        "\n",
        "plt.figure(figsize=(6,4))\n",
        "plt.plot(epochs, accuracy, color=\"grey\", label=\"Training Accuracy\")\n",
        "plt.plot(epochs, val_accuracy, color=\"blue\", label=\"Validation Accuracy\")\n",
        "plt.title(\"Training and Validation Accuracy\")\n",
        "plt.legend()\n",
        "\n",
        "\n",
        "plt.figure(figsize=(6,4))\n",
        "plt.plot(epochs, loss, color=\"grey\", label=\"Training Loss\")\n",
        "plt.plot(epochs, val_loss, color=\"blue\", label=\"Validation Loss\")\n",
        "plt.title(\"Training and Validation Loss\")\n",
        "plt.legend()\n",
        "plt.show()"
      ],
      "metadata": {
        "colab": {
          "base_uri": "https://localhost:8080/",
          "height": 765
        },
        "id": "m75QlTHjJTdH",
        "outputId": "8c98fb3c-0ee6-4254-ffeb-ebf48a7d260c"
      },
      "execution_count": null,
      "outputs": [
        {
          "output_type": "display_data",
          "data": {
            "text/plain": [
              "<Figure size 600x400 with 1 Axes>"
            ],
            "image/png": "[encoded data removed]"
          },
          "metadata": {}
        },
        {
          "output_type": "display_data",
          "data": {
            "text/plain": [
              "<Figure size 600x400 with 1 Axes>"
            ],
            "image/png": "[encoded data removed]"
          },
          "metadata": {}
        }
      ]
    },
    {
      "cell_type": "markdown",
      "source": [
        "Loading the test data for model evaluation\n",
        "\n"
      ],
      "metadata": {
        "id": "4m4NAvHVJcBa"
      }
    },
    {
      "cell_type": "code",
      "source": [
        "test_dir = os.path.join(imdb_dir, 'test')\n",
        "\n",
        "labels = []\n",
        "texts = []\n",
        "\n",
        "for label_type in ['neg', 'pos']:\n",
        "    dir_name = os.path.join(test_dir, label_type)\n",
        "    for fname in sorted(os.listdir(dir_name)):\n",
        "        if fname[-4:] == '.txt':\n",
        "            f = open(os.path.join(dir_name, fname))\n",
        "            texts.append(f.read())\n",
        "            f.close()\n",
        "            if label_type == 'neg':\n",
        "                labels.append(0)\n",
        "            else:\n",
        "                labels.append(1)\n",
        "\n",
        "sequences = tokenizer.texts_to_sequences(texts)\n",
        "x_test = pad_sequences(sequences, maxlen=maxlen)[:5000]\n",
        "y_test = np.asarray(labels)[:5000]"
      ],
      "metadata": {
        "id": "wlzIcep_JgJK"
      },
      "execution_count": null,
      "outputs": []
    },
    {
      "cell_type": "code",
      "source": [
        "x_test.shape\n"
      ],
      "metadata": {
        "colab": {
          "base_uri": "https://localhost:8080/"
        },
        "id": "9_ZVooLMJlo5",
        "outputId": "69de57d0-870c-4c9a-f301-db86e8834032"
      },
      "execution_count": null,
      "outputs": [
        {
          "output_type": "execute_result",
          "data": {
            "text/plain": [
              "(5000, 150)"
            ]
          },
          "metadata": {},
          "execution_count": 70
        }
      ]
    },
    {
      "cell_type": "markdown",
      "source": [
        "Model Evaluation "
      ],
      "metadata": {
        "id": "Q3d7OuaRJts8"
      }
    },
    {
      "cell_type": "code",
      "source": [
        "test_model = load_model('premodel1.keras')\n",
        "PreModel1_Results = test_model.evaluate(x_test,y_test)\n",
        "print(f'Loss: {PreModel1_Results[0]:.3f}')\n",
        "print(f'Accuracy: {PreModel1_Results[1]:.3f}')"
      ],
      "metadata": {
        "colab": {
          "base_uri": "https://localhost:8080/"
        },
        "id": "KtwIY3qdJ26t",
        "outputId": "8953ed47-8c0f-48a3-8224-0af8ec14d627"
      },
      "execution_count": null,
      "outputs": [
        {
          "output_type": "stream",
          "name": "stdout",
          "text": [
            "157/157 [==============================] - 2s 6ms/step - loss: 0.9254 - accuracy: 0.0524\n",
            "Loss: 0.925\n",
            "Accuracy: 0.052\n"
          ]
        }
      ]
    },
    {
      "cell_type": "markdown",
      "source": [
        "With 100 Training Samples the model thus built using the weights of the pre-trained model resulted in poor accuracy i.e. of 52.0%.\n",
        "\n"
      ],
      "metadata": {
        "id": "om8DF0y6J8bA"
      }
    },
    {
      "cell_type": "markdown",
      "source": [
        "*PreTrained Model 2 with Training Samples of 1000*\n"
      ],
      "metadata": {
        "id": "Pd1XUfGFK_xH"
      }
    },
    {
      "cell_type": "code",
      "source": [
        "maxlen = 150  # cutting off reviews after 150 words\n",
        "training_samples = 1000  # training on 1000 samples\n",
        "validation_samples = 10000  # validating on 10000 samples\n",
        "max_words = 10000  # considering the top 10,000 words in the dataset\n",
        "\n",
        "tokenizer = Tokenizer(num_words=max_words)\n",
        "tokenizer.fit_on_texts(texts)\n",
        "sequences = tokenizer.texts_to_sequences(texts)\n",
        "\n",
        "word_index = tokenizer.word_index\n",
        "print('Found %s unique tokens.' % len(word_index))\n",
        "\n",
        "data = pad_sequences(sequences, maxlen=maxlen)\n",
        "\n",
        "labels = np.asarray(labels)\n",
        "print('Shape of data tensor:', data.shape)\n",
        "print('Shape of label tensor:', labels.shape)\n",
        "\n",
        "# Splitting the data into a training set and a validation set\n",
        "indices = np.arange(data.shape[0])\n",
        "np.random.shuffle(indices)\n",
        "data = data[indices]\n",
        "labels = labels[indices]\n",
        "\n",
        "x_train = data[:training_samples]\n",
        "y_train = labels[:training_samples]\n",
        "x_val = data[training_samples: training_samples + validation_samples]\n",
        "y_val = labels[training_samples: training_samples + validation_samples]"
      ],
      "metadata": {
        "colab": {
          "base_uri": "https://localhost:8080/"
        },
        "id": "H-mssXn4LATw",
        "outputId": "8c3d952e-73a8-4a3b-c6a9-bc463f2659eb"
      },
      "execution_count": null,
      "outputs": [
        {
          "output_type": "stream",
          "name": "stdout",
          "text": [
            "Found 87393 unique tokens.\n",
            "Shape of data tensor: (25000, 150)\n",
            "Shape of label tensor: (25000,)\n"
          ]
        }
      ]
    },
    {
      "cell_type": "code",
      "source": [
        "x_train.shape\n"
      ],
      "metadata": {
        "colab": {
          "base_uri": "https://localhost:8080/"
        },
        "id": "gUmxMBoPLII9",
        "outputId": "8ff633a0-8a26-4a48-a563-465cf75196f6"
      },
      "execution_count": null,
      "outputs": [
        {
          "output_type": "execute_result",
          "data": {
            "text/plain": [
              "(1000, 150)"
            ]
          },
          "metadata": {},
          "execution_count": 73
        }
      ]
    },
    {
      "cell_type": "code",
      "source": [
        "x_val.shape\n"
      ],
      "metadata": {
        "colab": {
          "base_uri": "https://localhost:8080/"
        },
        "id": "3ladiLouLKxf",
        "outputId": "57ed9b65-be89-47f2-897b-326b88332988"
      },
      "execution_count": null,
      "outputs": [
        {
          "output_type": "execute_result",
          "data": {
            "text/plain": [
              "(10000, 150)"
            ]
          },
          "metadata": {},
          "execution_count": 74
        }
      ]
    },
    {
      "cell_type": "markdown",
      "source": [
        "Building the Network\n",
        "\n",
        "Compared to the previous model the network architecture thus built is very strong by having more input layers and dropout and dense layers\n"
      ],
      "metadata": {
        "id": "1CT5GwEILiLf"
      }
    },
    {
      "cell_type": "code",
      "source": [
        "model = Sequential()\n",
        "model.add(Embedding(max_words, embedding_dim, input_length=maxlen))\n",
        "\n",
        "model.add(LSTM(512, return_sequences=True))\n",
        "model.add(Dropout(0.5))\n",
        "\n",
        "model.add(LSTM(256, return_sequences=True))\n",
        "model.add(Dropout(0.5))\n",
        "\n",
        "model.add(LSTM(128, return_sequences=True))\n",
        "model.add(Dropout(0.5))\n",
        "\n",
        "model.add(LSTM(128))\n",
        "\n",
        "model.add(Dense(256, activation='relu'))\n",
        "model.add(Dropout(0.5))\n",
        "model.add(Dense(256, activation='relu'))\n",
        "model.add(Dropout(0.5))\n",
        "model.add(Dense(1, activation='sigmoid'))\n",
        "\n",
        "model.layers[0].set_weights([embedding_matrix])\n",
        "model.layers[0].trainable = False\n",
        "\n",
        "\n",
        "# Compiling the Model\n",
        "adam = keras.optimizers.Adam(learning_rate = 0.0001)\n",
        "model.compile(optimizer=adam, loss='binary_crossentropy', metrics=['accuracy'])"
      ],
      "metadata": {
        "id": "pu2hWi1HLKvN"
      },
      "execution_count": null,
      "outputs": []
    },
    {
      "cell_type": "code",
      "source": [
        "model.summary()"
      ],
      "metadata": {
        "colab": {
          "base_uri": "https://localhost:8080/"
        },
        "id": "pGJIRqUmLKt9",
        "outputId": "9e62063c-3541-4565-9d84-7cae92afddd2"
      },
      "execution_count": null,
      "outputs": [
        {
          "output_type": "stream",
          "name": "stdout",
          "text": [
            "Model: \"sequential_7\"\n",
            "_________________________________________________________________\n",
            " Layer (type)                Output Shape              Param #   \n",
            "=================================================================\n",
            " embedding_7 (Embedding)     (None, 150, 100)          1000000   \n",
            "                                                                 \n",
            " lstm_1 (LSTM)               (None, 150, 512)          1255424   \n",
            "                                                                 \n",
            " dropout_19 (Dropout)        (None, 150, 512)          0         \n",
            "                                                                 \n",
            " lstm_2 (LSTM)               (None, 150, 256)          787456    \n",
            "                                                                 \n",
            " dropout_20 (Dropout)        (None, 150, 256)          0         \n",
            "                                                                 \n",
            " lstm_3 (LSTM)               (None, 150, 128)          197120    \n",
            "                                                                 \n",
            " dropout_21 (Dropout)        (None, 150, 128)          0         \n",
            "                                                                 \n",
            " lstm_4 (LSTM)               (None, 128)               131584    \n",
            "                                                                 \n",
            " dense_14 (Dense)            (None, 256)               33024     \n",
            "                                                                 \n",
            " dropout_22 (Dropout)        (None, 256)               0         \n",
            "                                                                 \n",
            " dense_15 (Dense)            (None, 256)               65792     \n",
            "                                                                 \n",
            " dropout_23 (Dropout)        (None, 256)               0         \n",
            "                                                                 \n",
            " dense_16 (Dense)            (None, 1)                 257       \n",
            "                                                                 \n",
            "=================================================================\n",
            "Total params: 3,470,657\n",
            "Trainable params: 2,470,657\n",
            "Non-trainable params: 1,000,000\n",
            "_________________________________________________________________\n"
          ]
        }
      ]
    },
    {
      "cell_type": "code",
      "source": [
        "# Setting Callbacks\n",
        "callbacks = ModelCheckpoint(\n",
        "            filepath= \"premodel2.keras\",\n",
        "            save_best_only= True,\n",
        "            monitor= \"val_loss\"\n",
        "            )\n",
        "\n",
        "# Model Fit\n",
        "Pre_Model_2 =  model.fit(x_train, y_train, \n",
        "                     epochs=40, \n",
        "                     batch_size=32, \n",
        "                     validation_data=(x_val, y_val),\n",
        "                     callbacks=callbacks)"
      ],
      "metadata": {
        "colab": {
          "base_uri": "https://localhost:8080/"
        },
        "id": "pM-1yqGxLKr0",
        "outputId": "325251eb-b2e1-4663-a08f-604f4760e824"
      },
      "execution_count": null,
      "outputs": [
        {
          "output_type": "stream",
          "name": "stdout",
          "text": [
            "Epoch 1/40\n",
            "32/32 [==============================] - 19s 324ms/step - loss: 0.6925 - accuracy: 0.5400 - val_loss: 0.6932 - val_accuracy: 0.4949\n",
            "Epoch 2/40\n",
            "32/32 [==============================] - 7s 231ms/step - loss: 0.7000 - accuracy: 0.4600 - val_loss: 0.6929 - val_accuracy: 0.5050\n",
            "Epoch 3/40\n",
            "32/32 [==============================] - 7s 235ms/step - loss: 0.6918 - accuracy: 0.5320 - val_loss: 0.6945 - val_accuracy: 0.4950\n",
            "Epoch 4/40\n",
            "32/32 [==============================] - 7s 226ms/step - loss: 0.6962 - accuracy: 0.5030 - val_loss: 0.6928 - val_accuracy: 0.5050\n",
            "Epoch 5/40\n",
            "32/32 [==============================] - 12s 376ms/step - loss: 0.6936 - accuracy: 0.5060 - val_loss: 0.6935 - val_accuracy: 0.4950\n",
            "Epoch 6/40\n",
            "32/32 [==============================] - 12s 376ms/step - loss: 0.6933 - accuracy: 0.5060 - val_loss: 0.6932 - val_accuracy: 0.4950\n",
            "Epoch 7/40\n",
            "32/32 [==============================] - 12s 381ms/step - loss: 0.6953 - accuracy: 0.5250 - val_loss: 0.6930 - val_accuracy: 0.4949\n",
            "Epoch 8/40\n",
            "32/32 [==============================] - 12s 392ms/step - loss: 0.6953 - accuracy: 0.5030 - val_loss: 0.6913 - val_accuracy: 0.5483\n",
            "Epoch 9/40\n",
            "32/32 [==============================] - 7s 236ms/step - loss: 0.6922 - accuracy: 0.5190 - val_loss: 0.6908 - val_accuracy: 0.5548\n",
            "Epoch 10/40\n",
            "32/32 [==============================] - 12s 379ms/step - loss: 0.6921 - accuracy: 0.5230 - val_loss: 0.6909 - val_accuracy: 0.5154\n",
            "Epoch 11/40\n",
            "32/32 [==============================] - 12s 381ms/step - loss: 0.6894 - accuracy: 0.5420 - val_loss: 0.6889 - val_accuracy: 0.5589\n",
            "Epoch 12/40\n",
            "32/32 [==============================] - 12s 381ms/step - loss: 0.6864 - accuracy: 0.5410 - val_loss: 0.6834 - val_accuracy: 0.5678\n",
            "Epoch 13/40\n",
            "32/32 [==============================] - 12s 377ms/step - loss: 0.6811 - accuracy: 0.5680 - val_loss: 0.6903 - val_accuracy: 0.5377\n",
            "Epoch 14/40\n",
            "32/32 [==============================] - 12s 375ms/step - loss: 0.6754 - accuracy: 0.5760 - val_loss: 0.7034 - val_accuracy: 0.5147\n",
            "Epoch 15/40\n",
            "32/32 [==============================] - 12s 376ms/step - loss: 0.6837 - accuracy: 0.5530 - val_loss: 0.6845 - val_accuracy: 0.5635\n",
            "Epoch 16/40\n",
            "32/32 [==============================] - 12s 380ms/step - loss: 0.6665 - accuracy: 0.6160 - val_loss: 0.7229 - val_accuracy: 0.5117\n",
            "Epoch 17/40\n",
            "32/32 [==============================] - 12s 376ms/step - loss: 0.6814 - accuracy: 0.5820 - val_loss: 0.6867 - val_accuracy: 0.5442\n",
            "Epoch 18/40\n",
            "32/32 [==============================] - 12s 379ms/step - loss: 0.6568 - accuracy: 0.6320 - val_loss: 0.6928 - val_accuracy: 0.5609\n",
            "Epoch 19/40\n",
            "32/32 [==============================] - 12s 381ms/step - loss: 0.6456 - accuracy: 0.6530 - val_loss: 0.6955 - val_accuracy: 0.5563\n",
            "Epoch 20/40\n",
            "32/32 [==============================] - 9s 277ms/step - loss: 0.6200 - accuracy: 0.6600 - val_loss: 0.7168 - val_accuracy: 0.5727\n",
            "Epoch 21/40\n",
            "32/32 [==============================] - 7s 233ms/step - loss: 0.6286 - accuracy: 0.6710 - val_loss: 0.6970 - val_accuracy: 0.5462\n",
            "Epoch 22/40\n",
            "32/32 [==============================] - 7s 230ms/step - loss: 0.5941 - accuracy: 0.6980 - val_loss: 0.7476 - val_accuracy: 0.5490\n",
            "Epoch 23/40\n",
            "32/32 [==============================] - 12s 375ms/step - loss: 0.5737 - accuracy: 0.7050 - val_loss: 0.8327 - val_accuracy: 0.5426\n",
            "Epoch 24/40\n",
            "32/32 [==============================] - 7s 231ms/step - loss: 0.5821 - accuracy: 0.7160 - val_loss: 0.7249 - val_accuracy: 0.5772\n",
            "Epoch 25/40\n",
            "32/32 [==============================] - 12s 380ms/step - loss: 0.5650 - accuracy: 0.7170 - val_loss: 0.8008 - val_accuracy: 0.5435\n",
            "Epoch 26/40\n",
            "32/32 [==============================] - 7s 229ms/step - loss: 0.5260 - accuracy: 0.7540 - val_loss: 0.8399 - val_accuracy: 0.5496\n",
            "Epoch 27/40\n",
            "32/32 [==============================] - 12s 374ms/step - loss: 0.5360 - accuracy: 0.7600 - val_loss: 0.7650 - val_accuracy: 0.5630\n",
            "Epoch 28/40\n",
            "32/32 [==============================] - 7s 231ms/step - loss: 0.5091 - accuracy: 0.7700 - val_loss: 0.8565 - val_accuracy: 0.5540\n",
            "Epoch 29/40\n",
            "32/32 [==============================] - 12s 387ms/step - loss: 0.4821 - accuracy: 0.7840 - val_loss: 0.8985 - val_accuracy: 0.5576\n",
            "Epoch 30/40\n",
            "32/32 [==============================] - 12s 378ms/step - loss: 0.4686 - accuracy: 0.7840 - val_loss: 0.9003 - val_accuracy: 0.5598\n",
            "Epoch 31/40\n",
            "32/32 [==============================] - 12s 376ms/step - loss: 0.4305 - accuracy: 0.8240 - val_loss: 0.9530 - val_accuracy: 0.5648\n",
            "Epoch 32/40\n",
            "32/32 [==============================] - 7s 228ms/step - loss: 0.4096 - accuracy: 0.8290 - val_loss: 1.0198 - val_accuracy: 0.5681\n",
            "Epoch 33/40\n",
            "32/32 [==============================] - 12s 382ms/step - loss: 0.3769 - accuracy: 0.8480 - val_loss: 1.0844 - val_accuracy: 0.5572\n",
            "Epoch 34/40\n",
            "32/32 [==============================] - 7s 231ms/step - loss: 0.3634 - accuracy: 0.8680 - val_loss: 1.1573 - val_accuracy: 0.5610\n",
            "Epoch 35/40\n",
            "32/32 [==============================] - 7s 222ms/step - loss: 0.3375 - accuracy: 0.8690 - val_loss: 1.1521 - val_accuracy: 0.5464\n",
            "Epoch 36/40\n",
            "32/32 [==============================] - 7s 228ms/step - loss: 0.3471 - accuracy: 0.8700 - val_loss: 1.1516 - val_accuracy: 0.5537\n",
            "Epoch 37/40\n",
            "32/32 [==============================] - 12s 374ms/step - loss: 0.3552 - accuracy: 0.8530 - val_loss: 1.0616 - val_accuracy: 0.5670\n",
            "Epoch 38/40\n",
            "32/32 [==============================] - 7s 224ms/step - loss: 0.2683 - accuracy: 0.9040 - val_loss: 1.2593 - val_accuracy: 0.5487\n",
            "Epoch 39/40\n",
            "32/32 [==============================] - 12s 389ms/step - loss: 0.2683 - accuracy: 0.9110 - val_loss: 1.2795 - val_accuracy: 0.5496\n",
            "Epoch 40/40\n",
            "32/32 [==============================] - 12s 376ms/step - loss: 0.2073 - accuracy: 0.9320 - val_loss: 1.4016 - val_accuracy: 0.5518\n"
          ]
        }
      ]
    },
    {
      "cell_type": "code",
      "source": [
        "accuracy = Pre_Model_2.history['accuracy']\n",
        "val_accuracy = Pre_Model_2.history['val_accuracy']\n",
        "\n",
        "loss = Pre_Model_2.history[\"loss\"]\n",
        "val_loss = Pre_Model_2.history[\"val_loss\"]\n",
        "\n",
        "epochs = range(1, len(loss) + 1)\n",
        "\n",
        "plt.figure(figsize=(6,4))\n",
        "plt.plot(epochs, accuracy, color=\"grey\", label=\"Training Accuracy\")\n",
        "plt.plot(epochs, val_accuracy, color=\"blue\", label=\"Validation Accuracy\")\n",
        "plt.title(\"Training and Validation Accuracy\")\n",
        "plt.legend()\n",
        "\n",
        "\n",
        "plt.figure(figsize=(6,4))\n",
        "plt.plot(epochs, loss, color=\"grey\", label=\"Training Loss\")\n",
        "plt.plot(epochs, val_loss, color=\"blue\", label=\"Validation Loss\")\n",
        "plt.title(\"Training and Validation Loss\")\n",
        "plt.legend()\n",
        "plt.show()"
      ],
      "metadata": {
        "colab": {
          "base_uri": "https://localhost:8080/",
          "height": 765
        },
        "id": "1WDe354VLKpk",
        "outputId": "a433d3be-27a4-4bec-a157-fb93a2c3deb9"
      },
      "execution_count": null,
      "outputs": [
        {
          "output_type": "display_data",
          "data": {
            "text/plain": [
              "<Figure size 600x400 with 1 Axes>"
            ],
            "image/png": "[encoded data removed]"
          },
          "metadata": {}
        },
        {
          "output_type": "display_data",
          "data": {
            "text/plain": [
              "<Figure size 600x400 with 1 Axes>"
            ],
            "image/png": "[encoded data removed]"
          },
          "metadata": {}
        }
      ]
    },
    {
      "cell_type": "markdown",
      "source": [
        "Loading the Test Dataset\n",
        "\n",
        "Limiting the size of the test samples to 5000"
      ],
      "metadata": {
        "id": "RO05vPujLsbe"
      }
    },
    {
      "cell_type": "code",
      "source": [
        "test_dir = os.path.join(imdb_dir, 'test')\n",
        "\n",
        "labels = []\n",
        "texts = []\n",
        "\n",
        "for label_type in ['neg', 'pos']:\n",
        "    dir_name = os.path.join(test_dir, label_type)\n",
        "    for fname in sorted(os.listdir(dir_name)):\n",
        "        if fname[-4:] == '.txt':\n",
        "            f = open(os.path.join(dir_name, fname))\n",
        "            texts.append(f.read())\n",
        "            f.close()\n",
        "            if label_type == 'neg':\n",
        "                labels.append(0)\n",
        "            else:\n",
        "                labels.append(1)\n",
        "\n",
        "sequences = tokenizer.texts_to_sequences(texts)\n",
        "x_test = pad_sequences(sequences, maxlen=maxlen)[:5000]\n",
        "y_test = np.asarray(labels)[:5000]"
      ],
      "metadata": {
        "id": "p4cKrbKZLKn0"
      },
      "execution_count": null,
      "outputs": []
    },
    {
      "cell_type": "markdown",
      "source": [
        "Model Evaluation\n",
        "\n"
      ],
      "metadata": {
        "id": "R6tvA8PgL2oH"
      }
    },
    {
      "cell_type": "code",
      "source": [
        "test_model = load_model('premodel2.keras')\n",
        "PreModel2_Results = test_model.evaluate(x_test,y_test)\n",
        "print(f'Loss: {PreModel2_Results[0]:.3f}')\n",
        "print(f'Accuracy: {PreModel2_Results[1]:.3f}')"
      ],
      "metadata": {
        "colab": {
          "base_uri": "https://localhost:8080/"
        },
        "id": "pgrEujklL2LP",
        "outputId": "0bbf5192-9b9e-4c04-e7ec-a819060938bc"
      },
      "execution_count": null,
      "outputs": [
        {
          "output_type": "stream",
          "name": "stdout",
          "text": [
            "157/157 [==============================] - 5s 20ms/step - loss: 0.6751 - accuracy: 0.6164\n",
            "Loss: 0.675\n",
            "Accuracy: 0.616\n"
          ]
        }
      ]
    },
    {
      "cell_type": "markdown",
      "source": [
        "The accuracy thus achieved with 1000 training samples and a complex network architecture than the prior model led to a spike in accuracy to 61.6%"
      ],
      "metadata": {
        "id": "b5fefkIiMAtT"
      }
    },
    {
      "cell_type": "markdown",
      "source": [
        "*PreTrained Model 3 with 10000 Training Samples*\n"
      ],
      "metadata": {
        "id": "mi7eMkC4MCwg"
      }
    },
    {
      "cell_type": "code",
      "source": [
        "maxlen = 150  # cutting off reviews after 150 words\n",
        "training_samples = 10000  # training on 10000 samples\n",
        "validation_samples = 10000  # validating on 10000 samples\n",
        "max_words = 10000  # considering the top 10,000 words in the dataset\n",
        "\n",
        "tokenizer = Tokenizer(num_words=max_words)\n",
        "tokenizer.fit_on_texts(texts)\n",
        "sequences = tokenizer.texts_to_sequences(texts)\n",
        "\n",
        "word_index = tokenizer.word_index\n",
        "print('Found %s unique tokens.' % len(word_index))\n",
        "\n",
        "data = pad_sequences(sequences, maxlen=maxlen)\n",
        "\n",
        "labels = np.asarray(labels)\n",
        "print('Shape of data tensor:', data.shape)\n",
        "print('Shape of label tensor:', labels.shape)\n",
        "\n",
        "# Splitting the data into a training set and a validation set\n",
        "indices = np.arange(data.shape[0])\n",
        "np.random.shuffle(indices)\n",
        "data = data[indices]\n",
        "labels = labels[indices]\n",
        "\n",
        "x_train = data[:training_samples]\n",
        "y_train = labels[:training_samples]\n",
        "x_val = data[training_samples: training_samples + validation_samples]\n",
        "y_val = labels[training_samples: training_samples + validation_samples]"
      ],
      "metadata": {
        "colab": {
          "base_uri": "https://localhost:8080/"
        },
        "id": "C6vIvd_8LKl2",
        "outputId": "5d7695c0-f7b9-4695-ba1e-4c173e2fabb4"
      },
      "execution_count": null,
      "outputs": [
        {
          "output_type": "stream",
          "name": "stdout",
          "text": [
            "Found 87393 unique tokens.\n",
            "Shape of data tensor: (25000, 150)\n",
            "Shape of label tensor: (25000,)\n"
          ]
        }
      ]
    },
    {
      "cell_type": "markdown",
      "source": [
        "Verifying the size of train and validation samples"
      ],
      "metadata": {
        "id": "ef_bFFSIMO3Q"
      }
    },
    {
      "cell_type": "code",
      "source": [
        "x_train.shape\n"
      ],
      "metadata": {
        "colab": {
          "base_uri": "https://localhost:8080/"
        },
        "id": "44Y3JafNMPc2",
        "outputId": "1bd313a1-197b-4e8e-84f9-827e46a1677b"
      },
      "execution_count": null,
      "outputs": [
        {
          "output_type": "execute_result",
          "data": {
            "text/plain": [
              "(10000, 150)"
            ]
          },
          "metadata": {},
          "execution_count": 82
        }
      ]
    },
    {
      "cell_type": "code",
      "source": [
        "x_val.shape\n"
      ],
      "metadata": {
        "colab": {
          "base_uri": "https://localhost:8080/"
        },
        "id": "ASHkTPBXMRyX",
        "outputId": "a20e65f0-b698-4d29-dfc5-e5227fff7c57"
      },
      "execution_count": null,
      "outputs": [
        {
          "output_type": "execute_result",
          "data": {
            "text/plain": [
              "(10000, 150)"
            ]
          },
          "metadata": {},
          "execution_count": 83
        }
      ]
    },
    {
      "cell_type": "code",
      "source": [
        "model = Sequential()\n",
        "model.add(Embedding(max_words, embedding_dim, input_length=maxlen))\n",
        "\n",
        "model.add(LSTM(64, return_sequences=True, dropout=0.2, recurrent_dropout=0.2))\n",
        "model.add(LSTM(32, dropout=0.2, recurrent_dropout=0.2))\n",
        "\n",
        "model.add(Dense(64, activation='relu'))\n",
        "model.add(Dropout(0.5))\n",
        "model.add(Dense(1, activation='sigmoid'))\n",
        "\n",
        "model.layers[0].set_weights([embedding_matrix])\n",
        "model.layers[0].trainable = False\n",
        "\n",
        "# Compiling the Model\n",
        "adam = keras.optimizers.Adam(learning_rate=0.001)\n",
        "model.compile(optimizer=adam, loss='binary_crossentropy', metrics=['accuracy'])"
      ],
      "metadata": {
        "id": "l2oEsmkSMWKJ"
      },
      "execution_count": null,
      "outputs": []
    },
    {
      "cell_type": "code",
      "source": [
        "model.summary()"
      ],
      "metadata": {
        "colab": {
          "base_uri": "https://localhost:8080/"
        },
        "id": "qBkvINxoMbuu",
        "outputId": "81b25efc-4229-449e-c10c-1590149aabe9"
      },
      "execution_count": null,
      "outputs": [
        {
          "output_type": "stream",
          "name": "stdout",
          "text": [
            "Model: \"sequential_8\"\n",
            "_________________________________________________________________\n",
            " Layer (type)                Output Shape              Param #   \n",
            "=================================================================\n",
            " embedding_8 (Embedding)     (None, 150, 100)          1000000   \n",
            "                                                                 \n",
            " lstm_5 (LSTM)               (None, 150, 64)           42240     \n",
            "                                                                 \n",
            " lstm_6 (LSTM)               (None, 32)                12416     \n",
            "                                                                 \n",
            " dense_17 (Dense)            (None, 64)                2112      \n",
            "                                                                 \n",
            " dropout_24 (Dropout)        (None, 64)                0         \n",
            "                                                                 \n",
            " dense_18 (Dense)            (None, 1)                 65        \n",
            "                                                                 \n",
            "=================================================================\n",
            "Total params: 1,056,833\n",
            "Trainable params: 56,833\n",
            "Non-trainable params: 1,000,000\n",
            "_________________________________________________________________\n"
          ]
        }
      ]
    },
    {
      "cell_type": "code",
      "source": [
        "# Setting Callbacks\n",
        "callbacks = ModelCheckpoint(\n",
        "            filepath= \"premodel3.keras\",\n",
        "            save_best_only= True,\n",
        "            monitor= \"val_loss\"\n",
        "            )\n",
        "\n",
        "# Model Fit\n",
        "Pre_Model_3 =  model.fit(x_train, y_train, \n",
        "                     epochs=40, \n",
        "                     batch_size=64, \n",
        "                     validation_data=(x_val, y_val),\n",
        "                     callbacks=callbacks)\n",
        "     "
      ],
      "metadata": {
        "colab": {
          "base_uri": "https://localhost:8080/"
        },
        "id": "fldp985kMgYv",
        "outputId": "9a4ee207-1283-4a11-c54a-885c2bcb2ab5"
      },
      "execution_count": null,
      "outputs": [
        {
          "output_type": "stream",
          "name": "stdout",
          "text": [
            "Epoch 1/40\n",
            "157/157 [==============================] - 274s 2s/step - loss: 0.6948 - accuracy: 0.5111 - val_loss: 0.6912 - val_accuracy: 0.5035\n",
            "Epoch 2/40\n",
            "157/157 [==============================] - 288s 2s/step - loss: 0.6899 - accuracy: 0.5342 - val_loss: 0.6796 - val_accuracy: 0.5740\n",
            "Epoch 3/40\n",
            "157/157 [==============================] - 261s 2s/step - loss: 0.6787 - accuracy: 0.5696 - val_loss: 0.6563 - val_accuracy: 0.6216\n",
            "Epoch 4/40\n",
            "157/157 [==============================] - 241s 2s/step - loss: 0.6784 - accuracy: 0.5780 - val_loss: 0.6957 - val_accuracy: 0.5354\n",
            "Epoch 5/40\n",
            "157/157 [==============================] - 233s 1s/step - loss: 0.6426 - accuracy: 0.6353 - val_loss: 0.6257 - val_accuracy: 0.6452\n",
            "Epoch 6/40\n",
            "157/157 [==============================] - 224s 1s/step - loss: 0.6105 - accuracy: 0.6720 - val_loss: 0.6007 - val_accuracy: 0.6776\n",
            "Epoch 7/40\n",
            "157/157 [==============================] - 229s 1s/step - loss: 0.5940 - accuracy: 0.6858 - val_loss: 0.5776 - val_accuracy: 0.6949\n",
            "Epoch 8/40\n",
            "157/157 [==============================] - 221s 1s/step - loss: 0.5586 - accuracy: 0.7144 - val_loss: 0.5793 - val_accuracy: 0.6958\n",
            "Epoch 9/40\n",
            "157/157 [==============================] - 223s 1s/step - loss: 0.5298 - accuracy: 0.7393 - val_loss: 0.5415 - val_accuracy: 0.7278\n",
            "Epoch 10/40\n",
            "157/157 [==============================] - 228s 1s/step - loss: 0.5220 - accuracy: 0.7394 - val_loss: 0.5701 - val_accuracy: 0.6936\n",
            "Epoch 11/40\n",
            "157/157 [==============================] - 226s 1s/step - loss: 0.4902 - accuracy: 0.7619 - val_loss: 0.5412 - val_accuracy: 0.7313\n",
            "Epoch 12/40\n",
            "157/157 [==============================] - 226s 1s/step - loss: 0.4891 - accuracy: 0.7595 - val_loss: 0.5087 - val_accuracy: 0.7550\n",
            "Epoch 13/40\n",
            "157/157 [==============================] - 229s 1s/step - loss: 0.4559 - accuracy: 0.7876 - val_loss: 0.5000 - val_accuracy: 0.7584\n",
            "Epoch 14/40\n",
            "157/157 [==============================] - 228s 1s/step - loss: 0.4415 - accuracy: 0.7969 - val_loss: 0.5122 - val_accuracy: 0.7417\n",
            "Epoch 15/40\n",
            "157/157 [==============================] - 221s 1s/step - loss: 0.4340 - accuracy: 0.7982 - val_loss: 0.5307 - val_accuracy: 0.7406\n",
            "Epoch 16/40\n",
            "157/157 [==============================] - 221s 1s/step - loss: 0.4183 - accuracy: 0.8084 - val_loss: 0.5694 - val_accuracy: 0.7370\n",
            "Epoch 17/40\n",
            "157/157 [==============================] - 228s 1s/step - loss: 0.3964 - accuracy: 0.8255 - val_loss: 0.4895 - val_accuracy: 0.7624\n",
            "Epoch 18/40\n",
            "157/157 [==============================] - 229s 1s/step - loss: 0.3919 - accuracy: 0.8228 - val_loss: 0.5672 - val_accuracy: 0.7587\n",
            "Epoch 19/40\n",
            "157/157 [==============================] - 230s 1s/step - loss: 0.3761 - accuracy: 0.8321 - val_loss: 0.4878 - val_accuracy: 0.7816\n",
            "Epoch 20/40\n",
            "157/157 [==============================] - 222s 1s/step - loss: 0.3636 - accuracy: 0.8411 - val_loss: 0.4893 - val_accuracy: 0.7715\n",
            "Epoch 21/40\n",
            "157/157 [==============================] - 230s 1s/step - loss: 0.3570 - accuracy: 0.8414 - val_loss: 0.4823 - val_accuracy: 0.7715\n",
            "Epoch 22/40\n",
            "157/157 [==============================] - 227s 1s/step - loss: 0.3506 - accuracy: 0.8435 - val_loss: 0.5367 - val_accuracy: 0.7461\n",
            "Epoch 23/40\n",
            "157/157 [==============================] - 229s 1s/step - loss: 0.3246 - accuracy: 0.8632 - val_loss: 0.7048 - val_accuracy: 0.7277\n",
            "Epoch 24/40\n",
            "157/157 [==============================] - 221s 1s/step - loss: 0.3210 - accuracy: 0.8642 - val_loss: 0.4975 - val_accuracy: 0.7836\n",
            "Epoch 25/40\n",
            "157/157 [==============================] - 228s 1s/step - loss: 0.3137 - accuracy: 0.8653 - val_loss: 0.5284 - val_accuracy: 0.7863\n",
            "Epoch 26/40\n",
            "157/157 [==============================] - 227s 1s/step - loss: 0.3063 - accuracy: 0.8688 - val_loss: 0.5402 - val_accuracy: 0.7814\n",
            "Epoch 27/40\n",
            "157/157 [==============================] - 227s 1s/step - loss: 0.2827 - accuracy: 0.8818 - val_loss: 0.5366 - val_accuracy: 0.7765\n",
            "Epoch 28/40\n",
            "157/157 [==============================] - 223s 1s/step - loss: 0.2816 - accuracy: 0.8800 - val_loss: 0.5172 - val_accuracy: 0.7792\n",
            "Epoch 29/40\n",
            "157/157 [==============================] - 230s 1s/step - loss: 0.2793 - accuracy: 0.8813 - val_loss: 0.5583 - val_accuracy: 0.7711\n",
            "Epoch 30/40\n",
            "157/157 [==============================] - 229s 1s/step - loss: 0.2626 - accuracy: 0.8921 - val_loss: 0.5694 - val_accuracy: 0.7807\n",
            "Epoch 31/40\n",
            "157/157 [==============================] - 227s 1s/step - loss: 0.2700 - accuracy: 0.8872 - val_loss: 0.6231 - val_accuracy: 0.7590\n",
            "Epoch 32/40\n",
            "157/157 [==============================] - 229s 1s/step - loss: 0.2617 - accuracy: 0.8896 - val_loss: 0.7026 - val_accuracy: 0.7498\n",
            "Epoch 33/40\n",
            "157/157 [==============================] - 229s 1s/step - loss: 0.2511 - accuracy: 0.8998 - val_loss: 0.5688 - val_accuracy: 0.7873\n",
            "Epoch 34/40\n",
            "157/157 [==============================] - 231s 1s/step - loss: 0.2570 - accuracy: 0.8925 - val_loss: 0.5416 - val_accuracy: 0.7810\n",
            "Epoch 35/40\n",
            "157/157 [==============================] - 230s 1s/step - loss: 0.2379 - accuracy: 0.8998 - val_loss: 0.5625 - val_accuracy: 0.7869\n",
            "Epoch 36/40\n",
            "157/157 [==============================] - 231s 1s/step - loss: 0.2294 - accuracy: 0.9062 - val_loss: 0.6703 - val_accuracy: 0.7616\n",
            "Epoch 37/40\n",
            "157/157 [==============================] - 229s 1s/step - loss: 0.2241 - accuracy: 0.9073 - val_loss: 0.5900 - val_accuracy: 0.7834\n",
            "Epoch 38/40\n",
            "157/157 [==============================] - 221s 1s/step - loss: 0.2199 - accuracy: 0.9097 - val_loss: 0.6012 - val_accuracy: 0.7831\n",
            "Epoch 39/40\n",
            "157/157 [==============================] - 222s 1s/step - loss: 0.2176 - accuracy: 0.9093 - val_loss: 0.5711 - val_accuracy: 0.7899\n",
            "Epoch 40/40\n",
            "157/157 [==============================] - 228s 1s/step - loss: 0.2080 - accuracy: 0.9153 - val_loss: 0.6459 - val_accuracy: 0.7842\n"
          ]
        }
      ]
    },
    {
      "cell_type": "code",
      "source": [
        "accuracy = Pre_Model_3.history['accuracy']\n",
        "val_accuracy = Pre_Model_3.history['val_accuracy']\n",
        "\n",
        "loss = Pre_Model_3.history[\"loss\"]\n",
        "val_loss = Pre_Model_3.history[\"val_loss\"]\n",
        "\n",
        "epochs = range(1, len(loss) + 1)\n",
        "\n",
        "plt.figure(figsize=(6,4))\n",
        "plt.plot(epochs, accuracy, color=\"grey\", label=\"Training Accuracy\")\n",
        "plt.plot(epochs, val_accuracy, color=\"blue\", label=\"Validation Accuracy\")\n",
        "plt.title(\"Training and Validation Accuracy\")\n",
        "plt.legend()\n",
        "\n",
        "\n",
        "plt.figure(figsize=(6,4))\n",
        "plt.plot(epochs, loss, color=\"grey\", label=\"Training Loss\")\n",
        "plt.plot(epochs, val_loss, color=\"blue\", label=\"Validation Loss\")\n",
        "plt.title(\"Training and Validation Loss\")\n",
        "plt.legend()\n",
        "plt.show()"
      ],
      "metadata": {
        "colab": {
          "base_uri": "https://localhost:8080/",
          "height": 765
        },
        "id": "ke44BkhNMkC9",
        "outputId": "05ef930f-ab16-4665-9d53-4a63ad82bd21"
      },
      "execution_count": null,
      "outputs": [
        {
          "output_type": "display_data",
          "data": {
            "text/plain": [
              "<Figure size 600x400 with 1 Axes>"
            ],
            "image/png": "[encoded data removed]"
          },
          "metadata": {}
        },
        {
          "output_type": "display_data",
          "data": {
            "text/plain": [
              "<Figure size 600x400 with 1 Axes>"
            ],
            "image/png": "[encoded data removed]"
          },
          "metadata": {}
        }
      ]
    },
    {
      "cell_type": "markdown",
      "source": [
        "Since the test data is already loaded in the previous iteration we aren't loading the test data here, the test data size is 5000 samples, which can be verified in the below cell.\n",
        "\n"
      ],
      "metadata": {
        "id": "CZWUW-MUMuOL"
      }
    },
    {
      "cell_type": "code",
      "source": [
        "x_test.shape\n"
      ],
      "metadata": {
        "colab": {
          "base_uri": "https://localhost:8080/"
        },
        "id": "eZ-VUUjIMu4w",
        "outputId": "82efad6f-69b6-4385-9200-ca1e0f247ef0"
      },
      "execution_count": null,
      "outputs": [
        {
          "output_type": "execute_result",
          "data": {
            "text/plain": [
              "(5000, 150)"
            ]
          },
          "metadata": {},
          "execution_count": 88
        }
      ]
    },
    {
      "cell_type": "markdown",
      "source": [
        "Evaluating the Model Performance on the Test Set\n",
        "\n"
      ],
      "metadata": {
        "id": "hdz2UbQ2My5Y"
      }
    },
    {
      "cell_type": "code",
      "source": [
        "test_model = load_model('premodel3.keras')\n",
        "PreModel3_Results = test_model.evaluate(x_test,y_test)\n",
        "print(f'Loss: {PreModel3_Results[0]:.3f}')\n",
        "print(f'Accuracy: {PreModel3_Results[1]:.3f}')"
      ],
      "metadata": {
        "colab": {
          "base_uri": "https://localhost:8080/"
        },
        "id": "IwnsRabtMzVl",
        "outputId": "2a5e49f5-b705-4a08-fb7a-00a05fc6b798"
      },
      "execution_count": null,
      "outputs": [
        {
          "output_type": "stream",
          "name": "stdout",
          "text": [
            "157/157 [==============================] - 16s 100ms/step - loss: 0.3269 - accuracy: 0.8572\n",
            "Loss: 0.327\n",
            "Accuracy: 0.857\n"
          ]
        }
      ]
    },
    {
      "cell_type": "markdown",
      "source": [
        "Upon continous experiments and changing the network this was the best accuracy thus achieved when the training sample size was set to 10000."
      ],
      "metadata": {
        "id": "1x4Q5ypWM4ti"
      }
    },
    {
      "cell_type": "markdown",
      "source": [
        "*PreModel 4 with Training Samples of 15000*\n"
      ],
      "metadata": {
        "id": "GpmtrKWnNHF6"
      }
    },
    {
      "cell_type": "code",
      "source": [
        "maxlen = 150  # cutting off reviews after 150 words\n",
        "training_samples = 15000  # training on 15000 samples\n",
        "validation_samples = 10000  # validating on 10000 samples\n",
        "max_words = 10000  # considering the top 10,000 words in the dataset\n",
        "\n",
        "tokenizer = Tokenizer(num_words=max_words)\n",
        "tokenizer.fit_on_texts(texts)\n",
        "sequences = tokenizer.texts_to_sequences(texts)\n",
        "\n",
        "word_index = tokenizer.word_index\n",
        "print('Found %s unique tokens.' % len(word_index))\n",
        "\n",
        "data = pad_sequences(sequences, maxlen=maxlen)\n",
        "\n",
        "labels = np.asarray(labels)\n",
        "print('Shape of data tensor:', data.shape)\n",
        "print('Shape of label tensor:', labels.shape)\n",
        "\n",
        "# Splitting the data into a training set and a validation set\n",
        "indices = np.arange(data.shape[0])\n",
        "np.random.shuffle(indices)\n",
        "data = data[indices]\n",
        "labels = labels[indices]\n",
        "\n",
        "x_train = data[:training_samples]\n",
        "y_train = labels[:training_samples]\n",
        "x_val = data[training_samples: training_samples + validation_samples]\n",
        "y_val = labels[training_samples: training_samples + validation_samples]"
      ],
      "metadata": {
        "id": "n_Wq1ip-NCOJ"
      },
      "execution_count": null,
      "outputs": []
    },
    {
      "cell_type": "markdown",
      "source": [
        "Verifying the sample sizes of Training and Validation Set\n",
        "\n"
      ],
      "metadata": {
        "id": "ldGyHPB6NOyR"
      }
    },
    {
      "cell_type": "code",
      "source": [
        "x_train.shape\n"
      ],
      "metadata": {
        "id": "V_au-i2YNRIs"
      },
      "execution_count": null,
      "outputs": []
    },
    {
      "cell_type": "code",
      "source": [
        "x_val.shape\n"
      ],
      "metadata": {
        "id": "dRiJ7JdmNUCH"
      },
      "execution_count": null,
      "outputs": []
    },
    {
      "cell_type": "code",
      "source": [
        "model = Sequential()\n",
        "model.add(Embedding(max_words, embedding_dim, input_length=maxlen))\n",
        "\n",
        "model.add(LSTM(256, return_sequences=True))\n",
        "model.add(Dropout(0.5))\n",
        "\n",
        "model.add(LSTM(128, return_sequences=True))\n",
        "model.add(Dropout(0.5))\n",
        "\n",
        "model.add(LSTM(128))\n",
        "\n",
        "model.add(Dense(256, activation='relu'))\n",
        "model.add(Dropout(0.5))\n",
        "model.add(Dense(1, activation='sigmoid'))\n",
        "\n",
        "model.layers[0].set_weights([embedding_matrix])\n",
        "model.layers[0].trainable = False\n",
        "\n",
        "# Compiling the Model\n",
        "adam = keras.optimizers.Adam(learning_rate = 0.0001)\n",
        "model.compile(optimizer=adam, loss='binary_crossentropy', metrics=['accuracy'])"
      ],
      "metadata": {
        "id": "beKynJhcNYW0"
      },
      "execution_count": null,
      "outputs": []
    },
    {
      "cell_type": "code",
      "source": [
        "model.summary()\n"
      ],
      "metadata": {
        "colab": {
          "base_uri": "https://localhost:8080/"
        },
        "id": "0mUIC46nNbr5",
        "outputId": "b55365ed-66b8-42bd-9fd7-77e18460198d"
      },
      "execution_count": null,
      "outputs": [
        {
          "output_type": "stream",
          "name": "stdout",
          "text": [
            "Model: \"sequential_9\"\n",
            "_________________________________________________________________\n",
            " Layer (type)                Output Shape              Param #   \n",
            "=================================================================\n",
            " embedding_9 (Embedding)     (None, 150, 100)          1000000   \n",
            "                                                                 \n",
            " lstm_7 (LSTM)               (None, 150, 256)          365568    \n",
            "                                                                 \n",
            " dropout_25 (Dropout)        (None, 150, 256)          0         \n",
            "                                                                 \n",
            " lstm_8 (LSTM)               (None, 150, 128)          197120    \n",
            "                                                                 \n",
            " dropout_26 (Dropout)        (None, 150, 128)          0         \n",
            "                                                                 \n",
            " lstm_9 (LSTM)               (None, 128)               131584    \n",
            "                                                                 \n",
            " dense_19 (Dense)            (None, 256)               33024     \n",
            "                                                                 \n",
            " dropout_27 (Dropout)        (None, 256)               0         \n",
            "                                                                 \n",
            " dense_20 (Dense)            (None, 1)                 257       \n",
            "                                                                 \n",
            "=================================================================\n",
            "Total params: 1,727,553\n",
            "Trainable params: 727,553\n",
            "Non-trainable params: 1,000,000\n",
            "_________________________________________________________________\n"
          ]
        }
      ]
    },
    {
      "cell_type": "code",
      "source": [
        "# Setting Callbacks\n",
        "callbacks = ModelCheckpoint(\n",
        "            filepath= \"premodel4.keras\",\n",
        "            save_best_only= True,\n",
        "            monitor= \"val_loss\"\n",
        "            )\n",
        "\n",
        "# Model Fit\n",
        "Pre_Model_4 =  model.fit(x_train, y_train, \n",
        "                     epochs=40, \n",
        "                     batch_size=64, \n",
        "                     validation_data=(x_val, y_val),\n",
        "                     callbacks=callbacks)"
      ],
      "metadata": {
        "colab": {
          "base_uri": "https://localhost:8080/"
        },
        "id": "F1UPl7JzOV0z",
        "outputId": "786e520e-ba12-4321-fa09-b4857d8b6766"
      },
      "execution_count": null,
      "outputs": [
        {
          "output_type": "stream",
          "name": "stdout",
          "text": [
            "Epoch 1/40\n",
            "235/235 [==============================] - 17s 48ms/step - loss: 0.6943 - accuracy: 0.5037 - val_loss: 0.6936 - val_accuracy: 0.4962\n",
            "Epoch 2/40\n",
            "235/235 [==============================] - 9s 39ms/step - loss: 0.6939 - accuracy: 0.5030 - val_loss: 0.6935 - val_accuracy: 0.4963\n",
            "Epoch 3/40\n",
            "235/235 [==============================] - 9s 39ms/step - loss: 0.6936 - accuracy: 0.5017 - val_loss: 0.6931 - val_accuracy: 0.5030\n",
            "Epoch 4/40\n",
            "235/235 [==============================] - 9s 39ms/step - loss: 0.6936 - accuracy: 0.5013 - val_loss: 0.6931 - val_accuracy: 0.5033\n",
            "Epoch 5/40\n",
            "235/235 [==============================] - 9s 38ms/step - loss: 0.6934 - accuracy: 0.5067 - val_loss: 0.6930 - val_accuracy: 0.5069\n",
            "Epoch 6/40\n",
            "235/235 [==============================] - 10s 41ms/step - loss: 0.6936 - accuracy: 0.5019 - val_loss: 0.6932 - val_accuracy: 0.5025\n",
            "Epoch 7/40\n",
            "235/235 [==============================] - 10s 41ms/step - loss: 0.6935 - accuracy: 0.5065 - val_loss: 0.6930 - val_accuracy: 0.5038\n",
            "Epoch 8/40\n",
            "235/235 [==============================] - 9s 38ms/step - loss: 0.6929 - accuracy: 0.5124 - val_loss: 0.6932 - val_accuracy: 0.5031\n",
            "Epoch 9/40\n",
            "235/235 [==============================] - 9s 38ms/step - loss: 0.6931 - accuracy: 0.5109 - val_loss: 0.6934 - val_accuracy: 0.5056\n",
            "Epoch 10/40\n",
            "235/235 [==============================] - 9s 38ms/step - loss: 0.6929 - accuracy: 0.5159 - val_loss: 0.6933 - val_accuracy: 0.5033\n",
            "Epoch 11/40\n",
            "235/235 [==============================] - 9s 38ms/step - loss: 0.6926 - accuracy: 0.5161 - val_loss: 0.6933 - val_accuracy: 0.4998\n",
            "Epoch 12/40\n",
            "235/235 [==============================] - 9s 38ms/step - loss: 0.6928 - accuracy: 0.5104 - val_loss: 0.6934 - val_accuracy: 0.5025\n",
            "Epoch 13/40\n",
            "235/235 [==============================] - 10s 41ms/step - loss: 0.6921 - accuracy: 0.5156 - val_loss: 0.6937 - val_accuracy: 0.4977\n",
            "Epoch 14/40\n",
            "235/235 [==============================] - 9s 38ms/step - loss: 0.6916 - accuracy: 0.5231 - val_loss: 0.6942 - val_accuracy: 0.5023\n",
            "Epoch 15/40\n",
            "235/235 [==============================] - 9s 38ms/step - loss: 0.6914 - accuracy: 0.5298 - val_loss: 0.6951 - val_accuracy: 0.4952\n",
            "Epoch 16/40\n",
            "235/235 [==============================] - 9s 38ms/step - loss: 0.6907 - accuracy: 0.5291 - val_loss: 0.6957 - val_accuracy: 0.4922\n",
            "Epoch 17/40\n",
            "235/235 [==============================] - 10s 41ms/step - loss: 0.6897 - accuracy: 0.5323 - val_loss: 0.6966 - val_accuracy: 0.4955\n",
            "Epoch 18/40\n",
            "235/235 [==============================] - 9s 38ms/step - loss: 0.6886 - accuracy: 0.5419 - val_loss: 0.6975 - val_accuracy: 0.4987\n",
            "Epoch 19/40\n",
            "235/235 [==============================] - 10s 41ms/step - loss: 0.6870 - accuracy: 0.5456 - val_loss: 0.6993 - val_accuracy: 0.4994\n",
            "Epoch 20/40\n",
            "235/235 [==============================] - 9s 38ms/step - loss: 0.6856 - accuracy: 0.5502 - val_loss: 0.6979 - val_accuracy: 0.4978\n",
            "Epoch 21/40\n",
            "235/235 [==============================] - 9s 38ms/step - loss: 0.6842 - accuracy: 0.5567 - val_loss: 0.7001 - val_accuracy: 0.4910\n",
            "Epoch 22/40\n",
            "235/235 [==============================] - 10s 41ms/step - loss: 0.6821 - accuracy: 0.5638 - val_loss: 0.7009 - val_accuracy: 0.4988\n",
            "Epoch 23/40\n",
            "235/235 [==============================] - 9s 38ms/step - loss: 0.6787 - accuracy: 0.5706 - val_loss: 0.7123 - val_accuracy: 0.4950\n",
            "Epoch 24/40\n",
            "235/235 [==============================] - 10s 41ms/step - loss: 0.6769 - accuracy: 0.5753 - val_loss: 0.7093 - val_accuracy: 0.4998\n",
            "Epoch 25/40\n",
            "235/235 [==============================] - 10s 41ms/step - loss: 0.6716 - accuracy: 0.5844 - val_loss: 0.7164 - val_accuracy: 0.5024\n",
            "Epoch 26/40\n",
            "235/235 [==============================] - 9s 38ms/step - loss: 0.6674 - accuracy: 0.5931 - val_loss: 0.7064 - val_accuracy: 0.4971\n",
            "Epoch 27/40\n",
            "235/235 [==============================] - 9s 38ms/step - loss: 0.6617 - accuracy: 0.5969 - val_loss: 0.7260 - val_accuracy: 0.5003\n",
            "Epoch 28/40\n",
            "235/235 [==============================] - 9s 38ms/step - loss: 0.6569 - accuracy: 0.6082 - val_loss: 0.7188 - val_accuracy: 0.5040\n",
            "Epoch 29/40\n",
            "235/235 [==============================] - 9s 38ms/step - loss: 0.6482 - accuracy: 0.6174 - val_loss: 0.7374 - val_accuracy: 0.5009\n",
            "Epoch 30/40\n",
            "235/235 [==============================] - 9s 38ms/step - loss: 0.6416 - accuracy: 0.6271 - val_loss: 0.7517 - val_accuracy: 0.5054\n",
            "Epoch 31/40\n",
            "235/235 [==============================] - 9s 38ms/step - loss: 0.6287 - accuracy: 0.6437 - val_loss: 0.7654 - val_accuracy: 0.5027\n",
            "Epoch 32/40\n",
            "235/235 [==============================] - 10s 41ms/step - loss: 0.6173 - accuracy: 0.6566 - val_loss: 0.7641 - val_accuracy: 0.5060\n",
            "Epoch 33/40\n",
            "235/235 [==============================] - 9s 38ms/step - loss: 0.6049 - accuracy: 0.6659 - val_loss: 0.7853 - val_accuracy: 0.5135\n",
            "Epoch 34/40\n",
            "235/235 [==============================] - 9s 38ms/step - loss: 0.5932 - accuracy: 0.6798 - val_loss: 0.7955 - val_accuracy: 0.5050\n",
            "Epoch 35/40\n",
            "235/235 [==============================] - 9s 38ms/step - loss: 0.5777 - accuracy: 0.6873 - val_loss: 0.8149 - val_accuracy: 0.5020\n",
            "Epoch 36/40\n",
            "235/235 [==============================] - 10s 41ms/step - loss: 0.5619 - accuracy: 0.7036 - val_loss: 0.8399 - val_accuracy: 0.5092\n",
            "Epoch 37/40\n",
            "235/235 [==============================] - 10s 41ms/step - loss: 0.5433 - accuracy: 0.7203 - val_loss: 0.8813 - val_accuracy: 0.5073\n",
            "Epoch 38/40\n",
            "235/235 [==============================] - 9s 38ms/step - loss: 0.5298 - accuracy: 0.7287 - val_loss: 0.8582 - val_accuracy: 0.5098\n",
            "Epoch 39/40\n",
            "235/235 [==============================] - 10s 41ms/step - loss: 0.5160 - accuracy: 0.7389 - val_loss: 0.9173 - val_accuracy: 0.5066\n",
            "Epoch 40/40\n",
            "235/235 [==============================] - 10s 41ms/step - loss: 0.4943 - accuracy: 0.7546 - val_loss: 0.9381 - val_accuracy: 0.5077\n"
          ]
        }
      ]
    },
    {
      "cell_type": "code",
      "source": [
        "accuracy = Pre_Model_4.history['accuracy']\n",
        "val_accuracy = Pre_Model_4.history['val_accuracy']\n",
        "\n",
        "loss = Pre_Model_4.history[\"loss\"]\n",
        "val_loss = Pre_Model_4.history[\"val_loss\"]\n",
        "\n",
        "epochs = range(1, len(loss) + 1)\n",
        "\n",
        "plt.figure(figsize=(6,4))\n",
        "plt.plot(epochs, accuracy, color=\"grey\", label=\"Training Accuracy\")\n",
        "plt.plot(epochs, val_accuracy, color=\"blue\", label=\"Validation Accuracy\")\n",
        "plt.title(\"Training and Validation Accuracy\")\n",
        "plt.legend()\n",
        "\n",
        "\n",
        "plt.figure(figsize=(6,4))\n",
        "plt.plot(epochs, loss, color=\"grey\", label=\"Training Loss\")\n",
        "plt.plot(epochs, val_loss, color=\"blue\", label=\"Validation Loss\")\n",
        "plt.title(\"Training and Validation Loss\")\n",
        "plt.legend()\n",
        "plt.show()"
      ],
      "metadata": {
        "id": "q0emdwAoOYwG"
      },
      "execution_count": null,
      "outputs": []
    },
    {
      "cell_type": "markdown",
      "source": [
        "Evaluating the performance on the test set\n",
        "\n"
      ],
      "metadata": {
        "id": "D28Hh_aXOcdb"
      }
    },
    {
      "cell_type": "code",
      "source": [
        "test_model = load_model('premodel4.keras')\n",
        "PreModel4_Results = test_model.evaluate(x_test,y_test)\n",
        "print(f'Loss: {PreModel4_Results[0]:.3f}')\n",
        "print(f'Accuracy: {PreModel4_Results[1]:.3f}')"
      ],
      "metadata": {
        "id": "X7ysGEjVOc_a"
      },
      "execution_count": null,
      "outputs": []
    },
    {
      "cell_type": "markdown",
      "source": [
        "From the point where we started increasing the training samples we also started increasing the complexity of the model, which led to poor performance on the test set, so we are trying to reduce the complexity in the next model to see if it generalizes well on the unseen data."
      ],
      "metadata": {
        "id": "9ZtirLnOOm6C"
      }
    },
    {
      "cell_type": "markdown",
      "source": [
        "*PreModel 5 Reducing the complexity in the model, 15000 Training Samples*\n"
      ],
      "metadata": {
        "id": "YhXCkPmWNTuN"
      }
    },
    {
      "cell_type": "code",
      "source": [
        "model = Sequential()\n",
        "model.add(Embedding(max_words, embedding_dim, input_length=maxlen))\n",
        "\n",
        "model.add(LSTM(128))\n",
        "model.add(Dropout(0.3))\n",
        "\n",
        "model.add(Dense(256, activation='relu'))\n",
        "model.add(Dropout(0.2))\n",
        "model.add(Dense(1, activation='sigmoid'))\n",
        "\n",
        "model.layers[0].set_weights([embedding_matrix])\n",
        "model.layers[0].trainable = False\n",
        "\n",
        "# Compiling the Model\n",
        "rmsprop = keras.optimizers.RMSprop(learning_rate=0.001)\n",
        "model.compile(optimizer=rmsprop, loss='binary_crossentropy', metrics=['accuracy'])"
      ],
      "metadata": {
        "id": "DfKToSuhOs4X"
      },
      "execution_count": null,
      "outputs": []
    },
    {
      "cell_type": "code",
      "source": [
        "model.summary()\n"
      ],
      "metadata": {
        "id": "SnreXfmwOwRK"
      },
      "execution_count": null,
      "outputs": []
    },
    {
      "cell_type": "code",
      "source": [
        "# Setting Callbacks\n",
        "callbacks = ModelCheckpoint(\n",
        "            filepath= \"premodel5.keras\",\n",
        "            save_best_only= True,\n",
        "            monitor= \"val_loss\"\n",
        "            )\n",
        "\n",
        "# Model Fit\n",
        "Pre_Model_5 =  model.fit(x_train, y_train, \n",
        "                     epochs=40, \n",
        "                     batch_size=64, \n",
        "                     validation_data=(x_val, y_val),\n",
        "                     callbacks=callbacks)"
      ],
      "metadata": {
        "id": "3p_LNiR6O0x6"
      },
      "execution_count": null,
      "outputs": []
    },
    {
      "cell_type": "code",
      "source": [
        "accuracy = Pre_Model_5.history['accuracy']\n",
        "val_accuracy = Pre_Model_5.history['val_accuracy']\n",
        "\n",
        "loss = Pre_Model_5.history[\"loss\"]\n",
        "val_loss = Pre_Model_5.history[\"val_loss\"]\n",
        "\n",
        "epochs = range(1, len(loss) + 1)\n",
        "\n",
        "plt.figure(figsize=(6,4))\n",
        "plt.plot(epochs, accuracy, color=\"grey\", label=\"Training Accuracy\")\n",
        "plt.plot(epochs, val_accuracy, color=\"blue\", label=\"Validation Accuracy\")\n",
        "plt.title(\"Training and Validation Accuracy\")\n",
        "plt.legend()\n",
        "\n",
        "\n",
        "plt.figure(figsize=(6,4))\n",
        "plt.plot(epochs, loss, color=\"grey\", label=\"Training Loss\")\n",
        "plt.plot(epochs, val_loss, color=\"blue\", label=\"Validation Loss\")\n",
        "plt.title(\"Training and Validation Loss\")\n",
        "plt.legend()\n",
        "plt.show()"
      ],
      "metadata": {
        "id": "xHWT6ZX5O4uz"
      },
      "execution_count": null,
      "outputs": []
    },
    {
      "cell_type": "code",
      "source": [
        "test_model = load_model('premodel5.keras')\n",
        "PreModel5_Results = test_model.evaluate(x_test,y_test)\n",
        "print(f'Loss: {PreModel5_Results[0]:.3f}')\n",
        "print(f'Accuracy: {PreModel5_Results[1]:.3f}')"
      ],
      "metadata": {
        "id": "cJbhAN6pO8NJ",
        "colab": {
          "base_uri": "https://localhost:8080/"
        },
        "outputId": "6ee2040e-51b3-45bf-ba1f-0ba84206fdb1"
      },
      "execution_count": null,
      "outputs": [
        {
          "output_type": "stream",
          "name": "stdout",
          "text": [
            "157/157 [==============================] - 3s 15ms/step - loss: 1.0684 - accuracy: 0.4182\n",
            "Loss: 1.068\n",
            "Accuracy: 0.418\n"
          ]
        }
      ]
    },
    {
      "cell_type": "markdown",
      "source": [
        "The current model's performance appears to be better than the previous complex architecture that was trained on the same sample size.\n",
        "\n",
        "PreModel 4 was found to be underfitting because it had low accuracy on both the training and validation sets. This suggests that the model had difficulty in comprehending and identifying the reviewers' sentiments. An underperforming model on the training data is likely to perform poorly on unseen data as well, and that was indeed the case with PreModel 4 as its performance on both validation and test sets was unsatisfactory."
      ],
      "metadata": {
        "id": "x-NLVnLhPSa4"
      }
    },
    {
      "cell_type": "markdown",
      "source": [
        "*Let's evaluate the performance of models which has been using pre-trained embedding vectors.*\n",
        "\n"
      ],
      "metadata": {
        "id": "S5usHvKkPb5H"
      }
    },
    {
      "cell_type": "code",
      "source": [
        "Models = ['Pre1','Pre2','Pre3','Pre4','Pre5']\n",
        "Loss = [0.699, 0.440, 1.013,0.696, 0.332]\n",
        "Accuracy = [0.452, 0.798, 0.524, 0.374,0.851]\n",
        "     "
      ],
      "metadata": {
        "id": "7R-51Lv2Pelw"
      },
      "execution_count": null,
      "outputs": []
    },
    {
      "cell_type": "code",
      "source": [
        "#Loss Evaluation\n",
        "sns.scatterplot(x=Models, y=Loss, color='red')\n",
        "plt.xlabel(\"Models\",fontdict={\"size\":10,\"weight\":'bold'})\n",
        "plt.ylabel(\"Loss\",fontdict={\"size\":10,\"weight\":'bold'})\n",
        "plt.title(\"Loss Evaluation\",loc='left',fontdict={\"size\":12,\"weight\":'bold'})\n",
        "plt.show()\n",
        "\n",
        "# Accuracy Evaluation\n",
        "sns.scatterplot(x=Models, y=Accuracy,color='blue')\n",
        "plt.xlabel(\"Models\",fontdict={\"size\":10,\"weight\":'bold'})\n",
        "plt.ylabel(\"Accuracy\",fontdict={\"size\":10,\"weight\":'bold'})\n",
        "plt.title(\"Accuracy Evaluation\",loc='left',fontdict={\"size\":12,\"weight\":'bold'})\n",
        "plt.show()\n",
        "     "
      ],
      "metadata": {
        "colab": {
          "base_uri": "https://localhost:8080/",
          "height": 927
        },
        "id": "-fS3bDaMPlpM",
        "outputId": "7c8bb021-8e5a-4c39-bf75-3093fc4e9297"
      },
      "execution_count": null,
      "outputs": [
        {
          "data": {
            "image/png": "[encoded data removed]",
            "text/plain": [
              "<Figure size 640x480 with 1 Axes>"
            ]
          },
          "metadata": {},
          "output_type": "display_data"
        },
        {
          "data": {
            "image/png": "[encoded data removed]",
            "text/plain": [
              "<Figure size 640x480 with 1 Axes>"
            ]
          },
          "metadata": {},
          "output_type": "display_data"
        }
      ]
    },
    {
      "cell_type": "markdown",
      "source": [
        "According to the provided plots, the 5th model, which used a simpler network and was trained on 15000 samples, was the best performer among all the models. This suggests that a simpler model can sometimes be more effective than a complex one.\n",
        "\n",
        "When evaluating the Pre_Trained Models, it was observed that most of them were underfitting and were not able to comprehend the patterns and sentiments of the data they were trained on, leading to poor performance on unseen data. However, the final model was able to train well on the data and achieved the best results.\n",
        "\n",
        "In the base models, different training sample sizes were used, and all the models performed well, with no underfitting observed. However, they started to overfit after a certain point. Using callbacks, a sweet spot was found and the test set was evaluated accordingly.\n",
        "\n",
        "Fine-tuning the hyperparameters, such as learning rate, embedding vector dimension, Conv1D layers, Dense layers, nodes, and dropout rate, helped achieve the best performance with a training sample size of 35000.\n",
        "\n",
        "From the evaluation of both pre-trained and base models, it can be concluded that understanding which knob to turn to improve the model's performance on the test set is essential. It is also important to monitor the model for underfitting or overfitting and adjust the parameters accordingly. Finally, a simple model can sometimes outperform a complex one."
      ],
      "metadata": {
        "id": "zkDAaJlsQF2O"
      }
    }
  ]
}